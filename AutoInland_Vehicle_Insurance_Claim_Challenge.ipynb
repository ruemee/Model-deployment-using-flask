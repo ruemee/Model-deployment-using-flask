{
  "nbformat": 4,
  "nbformat_minor": 0,
  "metadata": {
    "colab": {
      "name": "AutoInland Vehicle Insurance Claim Challenge.ipynb",
      "provenance": [],
      "collapsed_sections": [],
      "authorship_tag": "ABX9TyPV5GTtxLHj3Zc0gx4H2Luf",
      "include_colab_link": true
    },
    "kernelspec": {
      "name": "python3",
      "display_name": "Python 3"
    },
    "language_info": {
      "name": "python"
    }
  },
  "cells": [
    {
      "cell_type": "markdown",
      "metadata": {
        "id": "view-in-github",
        "colab_type": "text"
      },
      "source": [
        "<a href=\"https://colab.research.google.com/github/ruemee/Model-deployment-using-flask/blob/main/AutoInland_Vehicle_Insurance_Claim_Challenge.ipynb\" target=\"_parent\"><img src=\"https://colab.research.google.com/assets/colab-badge.svg\" alt=\"Open In Colab\"/></a>"
      ]
    },
    {
      "cell_type": "code",
      "metadata": {
        "id": "Uy5Prs0lSG9x"
      },
      "source": [
        "import pandas as pd\n",
        "import numpy as np\n",
        "import datetime as dt\n",
        "from tqdm.notebook import tqdm_notebook\n",
        "import seaborn as sns\n",
        "import matplotlib.pyplot as plt\n",
        "from sklearn.metrics import f1_score\n",
        "from lightgbm import LGBMClassifier\n",
        "from sklearn.model_selection import train_test_split\n",
        "import warnings\n",
        "warnings.filterwarnings('ignore')"
      ],
      "execution_count": 38,
      "outputs": []
    },
    {
      "cell_type": "code",
      "metadata": {
        "id": "3952p1ESSf-i"
      },
      "source": [
        "!pip install -U -q PyDrive\n",
        "from pydrive.auth import GoogleAuth\n",
        "from pydrive.drive import GoogleDrive\n",
        "from google.colab import auth\n",
        "from oauth2client.client import GoogleCredentials\n",
        "# Authenticate and create the PyDrive client.\n",
        "auth.authenticate_user()\n",
        "gauth = GoogleAuth()\n",
        "gauth.credentials = GoogleCredentials.get_application_default()\n",
        "drive = GoogleDrive(gauth)"
      ],
      "execution_count": 39,
      "outputs": []
    },
    {
      "cell_type": "code",
      "metadata": {
        "id": "qcLfG7YuTAgP"
      },
      "source": [
        "link = 'https://drive.google.com/file/d/1O9PHhQkvrX9c6KiN7Ldyg9K93miFtO8i/view?usp=sharing' # The shareable link"
      ],
      "execution_count": 40,
      "outputs": []
    },
    {
      "cell_type": "code",
      "metadata": {
        "id": "xXZRze2SS_KI"
      },
      "source": [
        "linkTest='https://drive.google.com/file/d/19d-QALAYK4gFEHXKDCDnc_Aa3kKOi-Pa/view?usp=sharing'"
      ],
      "execution_count": 41,
      "outputs": []
    },
    {
      "cell_type": "code",
      "metadata": {
        "id": "7D0dAg3jqVk0"
      },
      "source": [
        "linkSampleSubmission='https://drive.google.com/file/d/1w0udsBmYaBIo1UYbWZn1rQ9k3ArTgqaQ/view?usp=sharing'"
      ],
      "execution_count": 42,
      "outputs": []
    },
    {
      "cell_type": "code",
      "metadata": {
        "id": "ge-UPpK2hRSv"
      },
      "source": [
        "linkHtml='https://drive.google.com/file/d/1kXzQAd-O3OZB4nmVWjyrf9nJ2nnMaGss/view?usp=sharing'"
      ],
      "execution_count": 43,
      "outputs": []
    },
    {
      "cell_type": "code",
      "metadata": {
        "colab": {
          "base_uri": "https://localhost:8080/",
          "height": 338
        },
        "id": "U3D2dvqvSgBq",
        "outputId": "e2c78479-769b-4047-e7db-e635e51596e2"
      },
      "source": [
        "# to get the id part of the file \n",
        "id = link.split(\"/\")[-2] \n",
        "  \n",
        "downloaded = drive.CreateFile({'id':id})  \n",
        "downloaded.GetContentFile('Train.csv')   \n",
        "  \n",
        "df = pd.read_csv('Train.csv' , encoding='mac_roman',)\n",
        "df.head()"
      ],
      "execution_count": 44,
      "outputs": [
        {
          "output_type": "execute_result",
          "data": {
            "text/html": [
              "<div>\n",
              "<style scoped>\n",
              "    .dataframe tbody tr th:only-of-type {\n",
              "        vertical-align: middle;\n",
              "    }\n",
              "\n",
              "    .dataframe tbody tr th {\n",
              "        vertical-align: top;\n",
              "    }\n",
              "\n",
              "    .dataframe thead th {\n",
              "        text-align: right;\n",
              "    }\n",
              "</style>\n",
              "<table border=\"1\" class=\"dataframe\">\n",
              "  <thead>\n",
              "    <tr style=\"text-align: right;\">\n",
              "      <th></th>\n",
              "      <th>ID</th>\n",
              "      <th>Policy Start Date</th>\n",
              "      <th>Policy End Date</th>\n",
              "      <th>Gender</th>\n",
              "      <th>Age</th>\n",
              "      <th>First Transaction Date</th>\n",
              "      <th>No_Pol</th>\n",
              "      <th>Car_Category</th>\n",
              "      <th>Subject_Car_Colour</th>\n",
              "      <th>Subject_Car_Make</th>\n",
              "      <th>LGA_Name</th>\n",
              "      <th>State</th>\n",
              "      <th>ProductName</th>\n",
              "      <th>target</th>\n",
              "    </tr>\n",
              "  </thead>\n",
              "  <tbody>\n",
              "    <tr>\n",
              "      <th>0</th>\n",
              "      <td>ID_0040R73</td>\n",
              "      <td>2010-05-14</td>\n",
              "      <td>2011-05-13</td>\n",
              "      <td>Male</td>\n",
              "      <td>30</td>\n",
              "      <td>2010-05-14</td>\n",
              "      <td>1</td>\n",
              "      <td>Saloon</td>\n",
              "      <td>Black</td>\n",
              "      <td>TOYOTA</td>\n",
              "      <td>NaN</td>\n",
              "      <td>NaN</td>\n",
              "      <td>Car Classic</td>\n",
              "      <td>0</td>\n",
              "    </tr>\n",
              "    <tr>\n",
              "      <th>1</th>\n",
              "      <td>ID_0046BNK</td>\n",
              "      <td>2010-11-29</td>\n",
              "      <td>2011-11-28</td>\n",
              "      <td>Female</td>\n",
              "      <td>79</td>\n",
              "      <td>2010-11-29</td>\n",
              "      <td>1</td>\n",
              "      <td>JEEP</td>\n",
              "      <td>Grey</td>\n",
              "      <td>TOYOTA</td>\n",
              "      <td>NaN</td>\n",
              "      <td>NaN</td>\n",
              "      <td>Car Classic</td>\n",
              "      <td>1</td>\n",
              "    </tr>\n",
              "    <tr>\n",
              "      <th>2</th>\n",
              "      <td>ID_005QMC3</td>\n",
              "      <td>2010-03-21</td>\n",
              "      <td>2011-03-20</td>\n",
              "      <td>Male</td>\n",
              "      <td>43</td>\n",
              "      <td>2010-03-21</td>\n",
              "      <td>1</td>\n",
              "      <td>Saloon</td>\n",
              "      <td>Red</td>\n",
              "      <td>TOYOTA</td>\n",
              "      <td>NaN</td>\n",
              "      <td>NaN</td>\n",
              "      <td>Car Classic</td>\n",
              "      <td>0</td>\n",
              "    </tr>\n",
              "    <tr>\n",
              "      <th>3</th>\n",
              "      <td>ID_0079OHW</td>\n",
              "      <td>2010-08-21</td>\n",
              "      <td>2011-08-20</td>\n",
              "      <td>Male</td>\n",
              "      <td>2</td>\n",
              "      <td>2010-08-21</td>\n",
              "      <td>1</td>\n",
              "      <td>NaN</td>\n",
              "      <td>NaN</td>\n",
              "      <td>NaN</td>\n",
              "      <td>NaN</td>\n",
              "      <td>NaN</td>\n",
              "      <td>CarSafe</td>\n",
              "      <td>0</td>\n",
              "    </tr>\n",
              "    <tr>\n",
              "      <th>4</th>\n",
              "      <td>ID_00BRP63</td>\n",
              "      <td>2010-08-29</td>\n",
              "      <td>2010-12-31</td>\n",
              "      <td>Entity</td>\n",
              "      <td>20</td>\n",
              "      <td>2010-08-29</td>\n",
              "      <td>3</td>\n",
              "      <td>NaN</td>\n",
              "      <td>NaN</td>\n",
              "      <td>NaN</td>\n",
              "      <td>Lagos</td>\n",
              "      <td>Lagos</td>\n",
              "      <td>Muuve</td>\n",
              "      <td>1</td>\n",
              "    </tr>\n",
              "  </tbody>\n",
              "</table>\n",
              "</div>"
            ],
            "text/plain": [
              "           ID Policy Start Date Policy End Date  ...  State  ProductName target\n",
              "0  ID_0040R73        2010-05-14      2011-05-13  ...    NaN  Car Classic      0\n",
              "1  ID_0046BNK        2010-11-29      2011-11-28  ...    NaN  Car Classic      1\n",
              "2  ID_005QMC3        2010-03-21      2011-03-20  ...    NaN  Car Classic      0\n",
              "3  ID_0079OHW        2010-08-21      2011-08-20  ...    NaN      CarSafe      0\n",
              "4  ID_00BRP63        2010-08-29      2010-12-31  ...  Lagos        Muuve      1\n",
              "\n",
              "[5 rows x 14 columns]"
            ]
          },
          "metadata": {
            "tags": []
          },
          "execution_count": 44
        }
      ]
    },
    {
      "cell_type": "code",
      "metadata": {
        "colab": {
          "base_uri": "https://localhost:8080/",
          "height": 338
        },
        "id": "c19iXVlmSgFF",
        "outputId": "22a5474b-049b-4544-8531-6055ad453171"
      },
      "source": [
        "# to get the id part of the file \n",
        "id = linkTest.split(\"/\")[-2] \n",
        "  \n",
        "downloaded = drive.CreateFile({'id':id})  \n",
        "downloaded.GetContentFile('Test.csv')   \n",
        "  \n",
        "test = pd.read_csv('Test.csv') \n",
        "test.head()"
      ],
      "execution_count": 45,
      "outputs": [
        {
          "output_type": "execute_result",
          "data": {
            "text/html": [
              "<div>\n",
              "<style scoped>\n",
              "    .dataframe tbody tr th:only-of-type {\n",
              "        vertical-align: middle;\n",
              "    }\n",
              "\n",
              "    .dataframe tbody tr th {\n",
              "        vertical-align: top;\n",
              "    }\n",
              "\n",
              "    .dataframe thead th {\n",
              "        text-align: right;\n",
              "    }\n",
              "</style>\n",
              "<table border=\"1\" class=\"dataframe\">\n",
              "  <thead>\n",
              "    <tr style=\"text-align: right;\">\n",
              "      <th></th>\n",
              "      <th>ID</th>\n",
              "      <th>Policy Start Date</th>\n",
              "      <th>Policy End Date</th>\n",
              "      <th>Gender</th>\n",
              "      <th>Age</th>\n",
              "      <th>First Transaction Date</th>\n",
              "      <th>No_Pol</th>\n",
              "      <th>Car_Category</th>\n",
              "      <th>Subject_Car_Colour</th>\n",
              "      <th>Subject_Car_Make</th>\n",
              "      <th>LGA_Name</th>\n",
              "      <th>State</th>\n",
              "      <th>ProductName</th>\n",
              "    </tr>\n",
              "  </thead>\n",
              "  <tbody>\n",
              "    <tr>\n",
              "      <th>0</th>\n",
              "      <td>ID_009D84L</td>\n",
              "      <td>2010-04-24</td>\n",
              "      <td>2011-03-27</td>\n",
              "      <td>NO GENDER</td>\n",
              "      <td>25</td>\n",
              "      <td>2010-04-24</td>\n",
              "      <td>1</td>\n",
              "      <td>NaN</td>\n",
              "      <td>As Attached</td>\n",
              "      <td>Iveco</td>\n",
              "      <td>Victoria Island</td>\n",
              "      <td>Lagos</td>\n",
              "      <td>CVTP</td>\n",
              "    </tr>\n",
              "    <tr>\n",
              "      <th>1</th>\n",
              "      <td>ID_01DO2EQ</td>\n",
              "      <td>2010-01-01</td>\n",
              "      <td>2010-12-31</td>\n",
              "      <td>NaN</td>\n",
              "      <td>120</td>\n",
              "      <td>2010-01-01</td>\n",
              "      <td>4</td>\n",
              "      <td>NaN</td>\n",
              "      <td>As Attached</td>\n",
              "      <td>TOYOTA</td>\n",
              "      <td>Victoria Island</td>\n",
              "      <td>Lagos</td>\n",
              "      <td>Muuve</td>\n",
              "    </tr>\n",
              "    <tr>\n",
              "      <th>2</th>\n",
              "      <td>ID_01QM0NU</td>\n",
              "      <td>2010-10-23</td>\n",
              "      <td>2011-10-22</td>\n",
              "      <td>Female</td>\n",
              "      <td>46</td>\n",
              "      <td>2010-10-23</td>\n",
              "      <td>1</td>\n",
              "      <td>NaN</td>\n",
              "      <td>NaN</td>\n",
              "      <td>Ford</td>\n",
              "      <td>Abuja Municipal</td>\n",
              "      <td>Abuja-Municipal</td>\n",
              "      <td>Car Classic</td>\n",
              "    </tr>\n",
              "    <tr>\n",
              "      <th>3</th>\n",
              "      <td>ID_024NJLZ</td>\n",
              "      <td>2010-10-14</td>\n",
              "      <td>2011-10-13</td>\n",
              "      <td>Male</td>\n",
              "      <td>32</td>\n",
              "      <td>2010-10-14</td>\n",
              "      <td>1</td>\n",
              "      <td>NaN</td>\n",
              "      <td>NaN</td>\n",
              "      <td>NaN</td>\n",
              "      <td>Kosofe</td>\n",
              "      <td>Benue</td>\n",
              "      <td>Car Classic</td>\n",
              "    </tr>\n",
              "    <tr>\n",
              "      <th>4</th>\n",
              "      <td>ID_02BYET3</td>\n",
              "      <td>2010-09-16</td>\n",
              "      <td>2010-12-31</td>\n",
              "      <td>NaN</td>\n",
              "      <td>120</td>\n",
              "      <td>2010-09-16</td>\n",
              "      <td>4</td>\n",
              "      <td>NaN</td>\n",
              "      <td>NaN</td>\n",
              "      <td>TOYOTA</td>\n",
              "      <td>Victoria Island</td>\n",
              "      <td>Lagos</td>\n",
              "      <td>Muuve</td>\n",
              "    </tr>\n",
              "  </tbody>\n",
              "</table>\n",
              "</div>"
            ],
            "text/plain": [
              "           ID Policy Start Date  ...            State  ProductName\n",
              "0  ID_009D84L        2010-04-24  ...            Lagos         CVTP\n",
              "1  ID_01DO2EQ        2010-01-01  ...            Lagos        Muuve\n",
              "2  ID_01QM0NU        2010-10-23  ...  Abuja-Municipal  Car Classic\n",
              "3  ID_024NJLZ        2010-10-14  ...            Benue  Car Classic\n",
              "4  ID_02BYET3        2010-09-16  ...            Lagos        Muuve\n",
              "\n",
              "[5 rows x 13 columns]"
            ]
          },
          "metadata": {
            "tags": []
          },
          "execution_count": 45
        }
      ]
    },
    {
      "cell_type": "code",
      "metadata": {
        "id": "3Of1MeFNpt6E"
      },
      "source": [
        "# to get the id part of the file \n",
        "id = linkSampleSubmission.split(\"/\")[-2] \n",
        "  \n",
        "downloaded = drive.CreateFile({'id':id})  \n",
        "downloaded.GetContentFile('SampleSubmission.csv')   \n",
        "   \n",
        "ss = pd.read_csv('SampleSubmission.csv')"
      ],
      "execution_count": 46,
      "outputs": []
    },
    {
      "cell_type": "code",
      "metadata": {
        "id": "0xv1io8KiK7V"
      },
      "source": [
        "# # to get the id part of the file \n",
        "# id = linkHtml.split(\"/\")[-2] \n",
        "  \n",
        "# downloaded = drive.CreateFile({'id':id})  \n",
        "# downloaded.GetContentFile('vehicle.html')   \n",
        "   \n",
        "# html = pd.read_html('vehicle.html')"
      ],
      "execution_count": 47,
      "outputs": []
    },
    {
      "cell_type": "code",
      "metadata": {
        "colab": {
          "base_uri": "https://localhost:8080/"
        },
        "id": "iXDWlsHSSgH9",
        "outputId": "4114fae3-a261-4094-dbae-bd2c9d1aa854"
      },
      "source": [
        "# Check the shape of the train and test sets\n",
        "print(f'The shape of the train set is: {df.shape}\\nThe shape of the test set is: {test.shape}')"
      ],
      "execution_count": 48,
      "outputs": [
        {
          "output_type": "stream",
          "text": [
            "The shape of the train set is: (12079, 14)\n",
            "The shape of the test set is: (5177, 13)\n"
          ],
          "name": "stdout"
        }
      ]
    },
    {
      "cell_type": "code",
      "metadata": {
        "colab": {
          "base_uri": "https://localhost:8080/"
        },
        "id": "6SCX4ZIrSgKq",
        "outputId": "39015fe7-b2c2-4794-fa6c-da1ac0e56cde"
      },
      "source": [
        "df.info()"
      ],
      "execution_count": 49,
      "outputs": [
        {
          "output_type": "stream",
          "text": [
            "<class 'pandas.core.frame.DataFrame'>\n",
            "RangeIndex: 12079 entries, 0 to 12078\n",
            "Data columns (total 14 columns):\n",
            " #   Column                  Non-Null Count  Dtype \n",
            "---  ------                  --------------  ----- \n",
            " 0   ID                      12079 non-null  object\n",
            " 1   Policy Start Date       12079 non-null  object\n",
            " 2   Policy End Date         12079 non-null  object\n",
            " 3   Gender                  11720 non-null  object\n",
            " 4   Age                     12079 non-null  int64 \n",
            " 5   First Transaction Date  12079 non-null  object\n",
            " 6   No_Pol                  12079 non-null  int64 \n",
            " 7   Car_Category            8341 non-null   object\n",
            " 8   Subject_Car_Colour      5117 non-null   object\n",
            " 9   Subject_Car_Make        9603 non-null   object\n",
            " 10  LGA_Name                5603 non-null   object\n",
            " 11  State                   5591 non-null   object\n",
            " 12  ProductName             12079 non-null  object\n",
            " 13  target                  12079 non-null  int64 \n",
            "dtypes: int64(3), object(11)\n",
            "memory usage: 1.3+ MB\n"
          ],
          "name": "stdout"
        }
      ]
    },
    {
      "cell_type": "code",
      "metadata": {
        "colab": {
          "base_uri": "https://localhost:8080/"
        },
        "id": "9twgmJOMSgNs",
        "outputId": "f73985c5-a36c-4f8a-f16a-79287841afa5"
      },
      "source": [
        "df.isnull().sum()"
      ],
      "execution_count": 50,
      "outputs": [
        {
          "output_type": "execute_result",
          "data": {
            "text/plain": [
              "ID                           0\n",
              "Policy Start Date            0\n",
              "Policy End Date              0\n",
              "Gender                     359\n",
              "Age                          0\n",
              "First Transaction Date       0\n",
              "No_Pol                       0\n",
              "Car_Category              3738\n",
              "Subject_Car_Colour        6962\n",
              "Subject_Car_Make          2476\n",
              "LGA_Name                  6476\n",
              "State                     6488\n",
              "ProductName                  0\n",
              "target                       0\n",
              "dtype: int64"
            ]
          },
          "metadata": {
            "tags": []
          },
          "execution_count": 50
        }
      ]
    },
    {
      "cell_type": "code",
      "metadata": {
        "colab": {
          "base_uri": "https://localhost:8080/"
        },
        "id": "jSTMJ7Nwn-v0",
        "outputId": "4b213b23-c23b-4645-ac4d-59553fb1fd2d"
      },
      "source": [
        "test.isnull().sum()"
      ],
      "execution_count": 51,
      "outputs": [
        {
          "output_type": "execute_result",
          "data": {
            "text/plain": [
              "ID                           0\n",
              "Policy Start Date            0\n",
              "Policy End Date              0\n",
              "Gender                     156\n",
              "Age                          0\n",
              "First Transaction Date       0\n",
              "No_Pol                       0\n",
              "Car_Category              1638\n",
              "Subject_Car_Colour        3005\n",
              "Subject_Car_Make          1061\n",
              "LGA_Name                  2782\n",
              "State                     2788\n",
              "ProductName                  0\n",
              "dtype: int64"
            ]
          },
          "metadata": {
            "tags": []
          },
          "execution_count": 51
        }
      ]
    },
    {
      "cell_type": "code",
      "metadata": {
        "colab": {
          "base_uri": "https://localhost:8080/"
        },
        "id": "iDQ4zUIHoHHU",
        "outputId": "40411484-9d31-4140-b0a7-0d3da4cc9377"
      },
      "source": [
        "# Combine train and test set\n",
        "ntrain = df.shape[0] # to be used to split train and test set from the combined dataframe\n",
        "\n",
        "all_data = pd.concat((df, test)).reset_index(drop=True)\n",
        "print(f'The shape of the combined dataframe is: {all_data.shape}')"
      ],
      "execution_count": 52,
      "outputs": [
        {
          "output_type": "stream",
          "text": [
            "The shape of the combined dataframe is: (17256, 14)\n"
          ],
          "name": "stdout"
        }
      ]
    },
    {
      "cell_type": "code",
      "metadata": {
        "colab": {
          "base_uri": "https://localhost:8080/"
        },
        "id": "WfC15ITdSgQd",
        "outputId": "88de3f4d-fce6-4cfb-d731-f1ed4aa78fd4"
      },
      "source": [
        "# Change each column to its appriopriate datatype\n",
        "date_cols = [col for col in all_data.columns if 'Date' in col]\n",
        "num_cols = ['Age', 'No_Pol']\n",
        "cat_cols = [col for col in all_data.columns if col not in date_cols+num_cols+['ID', 'target']]\n",
        "\n",
        "for col in all_data.columns:\n",
        "  if col in date_cols:\n",
        "    all_data[col] = pd.to_datetime(all_data[col])\n",
        "  elif col in cat_cols:\n",
        "    all_data[col] = all_data[col].astype('category')\n",
        "\n",
        "# Confirm whether the changes have been applied successfully\n",
        "all_data.info()"
      ],
      "execution_count": 53,
      "outputs": [
        {
          "output_type": "stream",
          "text": [
            "<class 'pandas.core.frame.DataFrame'>\n",
            "RangeIndex: 17256 entries, 0 to 17255\n",
            "Data columns (total 14 columns):\n",
            " #   Column                  Non-Null Count  Dtype         \n",
            "---  ------                  --------------  -----         \n",
            " 0   ID                      17256 non-null  object        \n",
            " 1   Policy Start Date       17256 non-null  datetime64[ns]\n",
            " 2   Policy End Date         17256 non-null  datetime64[ns]\n",
            " 3   Gender                  16741 non-null  category      \n",
            " 4   Age                     17256 non-null  int64         \n",
            " 5   First Transaction Date  17256 non-null  datetime64[ns]\n",
            " 6   No_Pol                  17256 non-null  int64         \n",
            " 7   Car_Category            11880 non-null  category      \n",
            " 8   Subject_Car_Colour      7289 non-null   category      \n",
            " 9   Subject_Car_Make        13719 non-null  category      \n",
            " 10  LGA_Name                7998 non-null   category      \n",
            " 11  State                   7980 non-null   category      \n",
            " 12  ProductName             17256 non-null  category      \n",
            " 13  target                  12079 non-null  float64       \n",
            "dtypes: category(7), datetime64[ns](3), float64(1), int64(2), object(1)\n",
            "memory usage: 1.1+ MB\n"
          ],
          "name": "stdout"
        }
      ]
    },
    {
      "cell_type": "code",
      "metadata": {
        "id": "hdkxT3vQSgTe",
        "colab": {
          "base_uri": "https://localhost:8080/"
        },
        "outputId": "5ecfc27b-f37c-45f1-9634-dba0f2251242"
      },
      "source": [
        "mapper = {'Entity':'Other', 'Joint Gender':'Other', 'NOT STATED':'Other', 'NO GENDER': 'Other', 'SEX':\"Other\"}\n",
        "all_data.Gender = all_data.Gender.replace(mapper)\n",
        "\n",
        "# Confirm mappings\n",
        "all_data.Gender.value_counts()"
      ],
      "execution_count": 54,
      "outputs": [
        {
          "output_type": "execute_result",
          "data": {
            "text/plain": [
              "Male      10888\n",
              "Female     4735\n",
              "Other      1118\n",
              "Name: Gender, dtype: int64"
            ]
          },
          "metadata": {
            "tags": []
          },
          "execution_count": 54
        }
      ]
    },
    {
      "cell_type": "code",
      "metadata": {
        "colab": {
          "base_uri": "https://localhost:8080/"
        },
        "id": "f2FHBGSXsttX",
        "outputId": "62e3d6c9-a90a-4359-b367-6d2e877983a0"
      },
      "source": [
        "mapper = {'Tipper Truck':'Truck'}\n",
        "all_data.Car_Category = all_data.Car_Category.replace(mapper)\n",
        "\n",
        "# Confirm mappings\n",
        "all_data.Car_Category.value_counts()"
      ],
      "execution_count": 55,
      "outputs": [
        {
          "output_type": "execute_result",
          "data": {
            "text/plain": [
              "Saloon                     8612\n",
              "JEEP                       2868\n",
              "Truck                       136\n",
              "Bus                          66\n",
              "Mini Bus                     55\n",
              "Pick Up                      45\n",
              "Motorcycle                   24\n",
              "Sedan                        19\n",
              "Mini Van                     18\n",
              "Wagon                        13\n",
              "Shape Of Vehicle Chasis       8\n",
              "Station 4 Wheel               7\n",
              "Van                           5\n",
              "Pick Up > 3 Tons              3\n",
              "CAMRY CAR HIRE                1\n",
              "Name: Car_Category, dtype: int64"
            ]
          },
          "metadata": {
            "tags": []
          },
          "execution_count": 55
        }
      ]
    },
    {
      "cell_type": "code",
      "metadata": {
        "colab": {
          "base_uri": "https://localhost:8080/"
        },
        "id": "d8eD_uuutBVe",
        "outputId": "9db57764-b06a-439b-ba9c-b995402630a8"
      },
      "source": [
        "mapper = {'Mini Bus':'Bus'}\n",
        "all_data.Car_Category = all_data.Car_Category.replace(mapper)\n",
        "\n",
        "# Confirm mappings\n",
        "all_data.Car_Category.value_counts()"
      ],
      "execution_count": 56,
      "outputs": [
        {
          "output_type": "execute_result",
          "data": {
            "text/plain": [
              "Saloon                     8612\n",
              "JEEP                       2868\n",
              "Truck                       136\n",
              "Bus                         121\n",
              "Pick Up                      45\n",
              "Motorcycle                   24\n",
              "Sedan                        19\n",
              "Mini Van                     18\n",
              "Wagon                        13\n",
              "Shape Of Vehicle Chasis       8\n",
              "Station 4 Wheel               7\n",
              "Van                           5\n",
              "Pick Up > 3 Tons              3\n",
              "CAMRY CAR HIRE                1\n",
              "Name: Car_Category, dtype: int64"
            ]
          },
          "metadata": {
            "tags": []
          },
          "execution_count": 56
        }
      ]
    },
    {
      "cell_type": "code",
      "metadata": {
        "colab": {
          "base_uri": "https://localhost:8080/"
        },
        "id": "YMstEMPftgZ4",
        "outputId": "9e3db562-4ffc-4468-b0f8-649a8c10d798"
      },
      "source": [
        "mapper = {'Mini Van':'Van'}\n",
        "all_data.Car_Category = all_data.Car_Category.replace(mapper)\n",
        "\n",
        "# Confirm mappings\n",
        "all_data.Car_Category.value_counts()"
      ],
      "execution_count": 57,
      "outputs": [
        {
          "output_type": "execute_result",
          "data": {
            "text/plain": [
              "Saloon                     8612\n",
              "JEEP                       2868\n",
              "Truck                       136\n",
              "Bus                         121\n",
              "Pick Up                      45\n",
              "Motorcycle                   24\n",
              "Van                          23\n",
              "Sedan                        19\n",
              "Wagon                        13\n",
              "Shape Of Vehicle Chasis       8\n",
              "Station 4 Wheel               7\n",
              "Pick Up > 3 Tons              3\n",
              "CAMRY CAR HIRE                1\n",
              "Name: Car_Category, dtype: int64"
            ]
          },
          "metadata": {
            "tags": []
          },
          "execution_count": 57
        }
      ]
    },
    {
      "cell_type": "code",
      "metadata": {
        "colab": {
          "base_uri": "https://localhost:8080/"
        },
        "id": "_wJUNU6ot2h5",
        "outputId": "aebb5e31-1503-48a7-b510-8729511dfdfe"
      },
      "source": [
        "mapper = {'Pick Up > 3 Tons':'Pick Up'}\n",
        "all_data.Car_Category = all_data.Car_Category.replace(mapper)\n",
        "\n",
        "# Confirm mappings\n",
        "all_data.Car_Category.value_counts()"
      ],
      "execution_count": 58,
      "outputs": [
        {
          "output_type": "execute_result",
          "data": {
            "text/plain": [
              "Saloon                     8612\n",
              "JEEP                       2868\n",
              "Truck                       136\n",
              "Bus                         121\n",
              "Pick Up                      48\n",
              "Motorcycle                   24\n",
              "Van                          23\n",
              "Sedan                        19\n",
              "Wagon                        13\n",
              "Shape Of Vehicle Chasis       8\n",
              "Station 4 Wheel               7\n",
              "CAMRY CAR HIRE                1\n",
              "Name: Car_Category, dtype: int64"
            ]
          },
          "metadata": {
            "tags": []
          },
          "execution_count": 58
        }
      ]
    },
    {
      "cell_type": "code",
      "metadata": {
        "id": "iSmOF3ZlvDlR"
      },
      "source": [
        "mapper = {'Dark Gray':'Grey', 'Dark Grey': 'Grey', 'Gray & Gray':'Grey', 'Silver':'Grey', 'Gray & Silver':'Grey', 'Light Gray':'Grey','Ash':'Grey',\n",
        "          'B.Silver':'Grey'}\n",
        "all_data.Subject_Car_Colour = all_data.Subject_Car_Colour.replace(mapper)"
      ],
      "execution_count": 59,
      "outputs": []
    },
    {
      "cell_type": "code",
      "metadata": {
        "id": "uU2jWlcvwDqk"
      },
      "source": [
        "mapper = {'Dark Blue':'Blue', 'Blue Sky': 'Blue', 'Light Blue':'Blue'}\n",
        "all_data.Subject_Car_Colour = all_data.Subject_Car_Colour.replace(mapper)"
      ],
      "execution_count": 60,
      "outputs": []
    },
    {
      "cell_type": "code",
      "metadata": {
        "id": "_XMlx4CHwcnn"
      },
      "source": [
        "mapper = {'D. Red':'Red', 'Burgundy': 'Red', 'Dark Red':'Red', 'Red Maroon':'Red'}\n",
        "all_data.Subject_Car_Colour = all_data.Subject_Car_Colour.replace(mapper)"
      ],
      "execution_count": 61,
      "outputs": []
    },
    {
      "cell_type": "code",
      "metadata": {
        "id": "Io5FcXdvxAu6"
      },
      "source": [
        "mapper = {'Light Green':'Green', 'Dark Green': 'Green'}\n",
        "all_data.Subject_Car_Colour = all_data.Subject_Car_Colour.replace(mapper)"
      ],
      "execution_count": 62,
      "outputs": []
    },
    {
      "cell_type": "code",
      "metadata": {
        "id": "lCEGW-Z6xoY3"
      },
      "source": [
        "mapper = {'Gold':'Yellow', 'D. Gold': 'Yellow'}\n",
        "all_data.Subject_Car_Colour = all_data.Subject_Car_Colour.replace(mapper)"
      ],
      "execution_count": 63,
      "outputs": []
    },
    {
      "cell_type": "code",
      "metadata": {
        "id": "xpobWp8nyGVz"
      },
      "source": [
        "mapper = {'Wine':'Cream', 'Champagne': 'Cream','Beige Mitalic':'Cream'}\n",
        "all_data.Subject_Car_Colour = all_data.Subject_Car_Colour.replace(mapper)"
      ],
      "execution_count": 64,
      "outputs": []
    },
    {
      "cell_type": "code",
      "metadata": {
        "colab": {
          "base_uri": "https://localhost:8080/"
        },
        "id": "3vqcA28FSgWS",
        "outputId": "e5c73783-f3eb-4a8d-e363-976ca0beb07e"
      },
      "source": [
        "# Check unique values for each categorical column\n",
        "for col in cat_cols:\n",
        "  print(col)\n",
        "  print(all_data[col].unique(), '\\n')"
      ],
      "execution_count": 65,
      "outputs": [
        {
          "output_type": "stream",
          "text": [
            "Gender\n",
            "['Male' 'Female' 'Other' nan] \n",
            "\n",
            "Car_Category\n",
            "['Saloon' 'JEEP' nan 'Motorcycle' 'Truck' 'Bus' 'Pick Up' 'Van'\n",
            " 'CAMRY CAR HIRE' 'Wagon' 'Shape Of Vehicle Chasis' 'Sedan'\n",
            " 'Station 4 Wheel'] \n",
            "\n",
            "Subject_Car_Colour\n",
            "['Black' 'Grey' 'Red' nan 'As Attached' 'Blue' 'Green' 'White' 'Cream'\n",
            " 'Brown' 'Red & Blue' 'Yellow' 'Orange' 'Red & Black' 'White & Red'\n",
            " 'Purple' 'Blue & Red' 'Red & Yellow' 'Red & White' 'Black & White'\n",
            " 'White & Blue' 'Blue&White&Red' 'White & Yellow' 'Black & Orange'\n",
            " 'Yellow & White'] \n",
            "\n",
            "Subject_Car_Make\n",
            "['TOYOTA', NaN, 'REXTON', 'Lexus', 'Hyundai', ..., 'BRILLIANCE', 'Buik', 'COMMANDER', 'Bajaj', 'Datsun']\n",
            "Length: 76\n",
            "Categories (75, object): ['TOYOTA', 'REXTON', 'Lexus', 'Hyundai', ..., 'Buik', 'COMMANDER', 'Bajaj',\n",
            "                          'Datsun'] \n",
            "\n",
            "LGA_Name\n",
            "[NaN, 'Lagos', 'Ikeja', 'Badagry', 'Eti-Osa', ..., 'Hong', 'Ifako-Agege', 'Benue', 'Okpokwu', 'Ngor-Okpala']\n",
            "Length: 271\n",
            "Categories (270, object): ['Lagos', 'Ikeja', 'Badagry', 'Eti-Osa', ..., 'Ifako-Agege', 'Benue',\n",
            "                           'Okpokwu', 'Ngor-Okpala'] \n",
            "\n",
            "State\n",
            "[NaN, 'Lagos', 'Benue', 'Eti-Osa', 'Delta', ..., 'ENUGU-SOUTH', 'Ijebu-North', 'Asari-Toru', 'Idemili-south', 'Ngor-Okpala']\n",
            "Length: 114\n",
            "Categories (113, object): ['Lagos', 'Benue', 'Eti-Osa', 'Delta', ..., 'Ijebu-North', 'Asari-Toru',\n",
            "                           'Idemili-south', 'Ngor-Okpala'] \n",
            "\n",
            "ProductName\n",
            "['Car Classic', 'CarSafe', 'Muuve', 'CVTP', 'Car Plus', 'Motor Cycle', 'Customized Motor', 'CarFlex', 'Car Vintage']\n",
            "Categories (9, object): ['Car Classic', 'CarSafe', 'Muuve', 'CVTP', ..., 'Motor Cycle',\n",
            "                         'Customized Motor', 'CarFlex', 'Car Vintage'] \n",
            "\n"
          ],
          "name": "stdout"
        }
      ]
    },
    {
      "cell_type": "code",
      "metadata": {
        "colab": {
          "base_uri": "https://localhost:8080/"
        },
        "id": "Qu_OOsMbSgZJ",
        "outputId": "8494ec63-da7c-432c-9ac6-ee83b2ff6f53"
      },
      "source": [
        "# Fill in missing values\n",
        "# For cat cols and date cols fill in with mode and for num cols fill in with 9999\n",
        "for col in all_data.columns:\n",
        "  if col in date_cols+cat_cols:\n",
        "    all_data[col] = all_data[col].fillna(all_data[col].mode()[0])\n",
        "  elif col in num_cols:\n",
        "    all_data[col] = all_data[col].fillna(all_data[col].fillna(9999))\n",
        "\n",
        "# Confirm that there aren't any missing values\n",
        "all_data[all_data.columns.difference(['target'])].isna().sum()"
      ],
      "execution_count": 66,
      "outputs": [
        {
          "output_type": "execute_result",
          "data": {
            "text/plain": [
              "Age                       0\n",
              "Car_Category              0\n",
              "First Transaction Date    0\n",
              "Gender                    0\n",
              "ID                        0\n",
              "LGA_Name                  0\n",
              "No_Pol                    0\n",
              "Policy End Date           0\n",
              "Policy Start Date         0\n",
              "ProductName               0\n",
              "State                     0\n",
              "Subject_Car_Colour        0\n",
              "Subject_Car_Make          0\n",
              "dtype: int64"
            ]
          },
          "metadata": {
            "tags": []
          },
          "execution_count": 66
        }
      ]
    },
    {
      "cell_type": "code",
      "metadata": {
        "colab": {
          "base_uri": "https://localhost:8080/",
          "height": 338
        },
        "id": "GbUWYydnWZoD",
        "outputId": "614da3a4-17f8-4471-ff56-7b1f0d74dc8f"
      },
      "source": [
        "# Extract date features from the date columns\n",
        "for col in date_cols:\n",
        "  for date_feature in ['year', 'month', 'day']:\n",
        "    all_data[col+date_feature] = getattr(all_data[col].dt, date_feature)\n",
        "\n",
        "all_data.head()"
      ],
      "execution_count": 67,
      "outputs": [
        {
          "output_type": "execute_result",
          "data": {
            "text/html": [
              "<div>\n",
              "<style scoped>\n",
              "    .dataframe tbody tr th:only-of-type {\n",
              "        vertical-align: middle;\n",
              "    }\n",
              "\n",
              "    .dataframe tbody tr th {\n",
              "        vertical-align: top;\n",
              "    }\n",
              "\n",
              "    .dataframe thead th {\n",
              "        text-align: right;\n",
              "    }\n",
              "</style>\n",
              "<table border=\"1\" class=\"dataframe\">\n",
              "  <thead>\n",
              "    <tr style=\"text-align: right;\">\n",
              "      <th></th>\n",
              "      <th>ID</th>\n",
              "      <th>Policy Start Date</th>\n",
              "      <th>Policy End Date</th>\n",
              "      <th>Gender</th>\n",
              "      <th>Age</th>\n",
              "      <th>First Transaction Date</th>\n",
              "      <th>No_Pol</th>\n",
              "      <th>Car_Category</th>\n",
              "      <th>Subject_Car_Colour</th>\n",
              "      <th>Subject_Car_Make</th>\n",
              "      <th>LGA_Name</th>\n",
              "      <th>State</th>\n",
              "      <th>ProductName</th>\n",
              "      <th>target</th>\n",
              "      <th>Policy Start Dateyear</th>\n",
              "      <th>Policy Start Datemonth</th>\n",
              "      <th>Policy Start Dateday</th>\n",
              "      <th>Policy End Dateyear</th>\n",
              "      <th>Policy End Datemonth</th>\n",
              "      <th>Policy End Dateday</th>\n",
              "      <th>First Transaction Dateyear</th>\n",
              "      <th>First Transaction Datemonth</th>\n",
              "      <th>First Transaction Dateday</th>\n",
              "    </tr>\n",
              "  </thead>\n",
              "  <tbody>\n",
              "    <tr>\n",
              "      <th>0</th>\n",
              "      <td>ID_0040R73</td>\n",
              "      <td>2010-05-14</td>\n",
              "      <td>2011-05-13</td>\n",
              "      <td>Male</td>\n",
              "      <td>30</td>\n",
              "      <td>2010-05-14</td>\n",
              "      <td>1</td>\n",
              "      <td>Saloon</td>\n",
              "      <td>Black</td>\n",
              "      <td>TOYOTA</td>\n",
              "      <td>Victoria Island</td>\n",
              "      <td>Lagos</td>\n",
              "      <td>Car Classic</td>\n",
              "      <td>0.0</td>\n",
              "      <td>2010</td>\n",
              "      <td>5</td>\n",
              "      <td>14</td>\n",
              "      <td>2011</td>\n",
              "      <td>5</td>\n",
              "      <td>13</td>\n",
              "      <td>2010</td>\n",
              "      <td>5</td>\n",
              "      <td>14</td>\n",
              "    </tr>\n",
              "    <tr>\n",
              "      <th>1</th>\n",
              "      <td>ID_0046BNK</td>\n",
              "      <td>2010-11-29</td>\n",
              "      <td>2011-11-28</td>\n",
              "      <td>Female</td>\n",
              "      <td>79</td>\n",
              "      <td>2010-11-29</td>\n",
              "      <td>1</td>\n",
              "      <td>JEEP</td>\n",
              "      <td>Grey</td>\n",
              "      <td>TOYOTA</td>\n",
              "      <td>Victoria Island</td>\n",
              "      <td>Lagos</td>\n",
              "      <td>Car Classic</td>\n",
              "      <td>1.0</td>\n",
              "      <td>2010</td>\n",
              "      <td>11</td>\n",
              "      <td>29</td>\n",
              "      <td>2011</td>\n",
              "      <td>11</td>\n",
              "      <td>28</td>\n",
              "      <td>2010</td>\n",
              "      <td>11</td>\n",
              "      <td>29</td>\n",
              "    </tr>\n",
              "    <tr>\n",
              "      <th>2</th>\n",
              "      <td>ID_005QMC3</td>\n",
              "      <td>2010-03-21</td>\n",
              "      <td>2011-03-20</td>\n",
              "      <td>Male</td>\n",
              "      <td>43</td>\n",
              "      <td>2010-03-21</td>\n",
              "      <td>1</td>\n",
              "      <td>Saloon</td>\n",
              "      <td>Red</td>\n",
              "      <td>TOYOTA</td>\n",
              "      <td>Victoria Island</td>\n",
              "      <td>Lagos</td>\n",
              "      <td>Car Classic</td>\n",
              "      <td>0.0</td>\n",
              "      <td>2010</td>\n",
              "      <td>3</td>\n",
              "      <td>21</td>\n",
              "      <td>2011</td>\n",
              "      <td>3</td>\n",
              "      <td>20</td>\n",
              "      <td>2010</td>\n",
              "      <td>3</td>\n",
              "      <td>21</td>\n",
              "    </tr>\n",
              "    <tr>\n",
              "      <th>3</th>\n",
              "      <td>ID_0079OHW</td>\n",
              "      <td>2010-08-21</td>\n",
              "      <td>2011-08-20</td>\n",
              "      <td>Male</td>\n",
              "      <td>2</td>\n",
              "      <td>2010-08-21</td>\n",
              "      <td>1</td>\n",
              "      <td>Saloon</td>\n",
              "      <td>Black</td>\n",
              "      <td>TOYOTA</td>\n",
              "      <td>Victoria Island</td>\n",
              "      <td>Lagos</td>\n",
              "      <td>CarSafe</td>\n",
              "      <td>0.0</td>\n",
              "      <td>2010</td>\n",
              "      <td>8</td>\n",
              "      <td>21</td>\n",
              "      <td>2011</td>\n",
              "      <td>8</td>\n",
              "      <td>20</td>\n",
              "      <td>2010</td>\n",
              "      <td>8</td>\n",
              "      <td>21</td>\n",
              "    </tr>\n",
              "    <tr>\n",
              "      <th>4</th>\n",
              "      <td>ID_00BRP63</td>\n",
              "      <td>2010-08-29</td>\n",
              "      <td>2010-12-31</td>\n",
              "      <td>Other</td>\n",
              "      <td>20</td>\n",
              "      <td>2010-08-29</td>\n",
              "      <td>3</td>\n",
              "      <td>Saloon</td>\n",
              "      <td>Black</td>\n",
              "      <td>TOYOTA</td>\n",
              "      <td>Lagos</td>\n",
              "      <td>Lagos</td>\n",
              "      <td>Muuve</td>\n",
              "      <td>1.0</td>\n",
              "      <td>2010</td>\n",
              "      <td>8</td>\n",
              "      <td>29</td>\n",
              "      <td>2010</td>\n",
              "      <td>12</td>\n",
              "      <td>31</td>\n",
              "      <td>2010</td>\n",
              "      <td>8</td>\n",
              "      <td>29</td>\n",
              "    </tr>\n",
              "  </tbody>\n",
              "</table>\n",
              "</div>"
            ],
            "text/plain": [
              "           ID  ... First Transaction Dateday\n",
              "0  ID_0040R73  ...                        14\n",
              "1  ID_0046BNK  ...                        29\n",
              "2  ID_005QMC3  ...                        21\n",
              "3  ID_0079OHW  ...                        21\n",
              "4  ID_00BRP63  ...                        29\n",
              "\n",
              "[5 rows x 23 columns]"
            ]
          },
          "metadata": {
            "tags": []
          },
          "execution_count": 67
        }
      ]
    },
    {
      "cell_type": "code",
      "metadata": {
        "id": "t2HWP2f3rwBw"
      },
      "source": [
        "# all_data = all_data.drop([\"State\"],axis=1)"
      ],
      "execution_count": 68,
      "outputs": []
    },
    {
      "cell_type": "code",
      "metadata": {
        "id": "B_1AJX2YSgb9",
        "colab": {
          "base_uri": "https://localhost:8080/",
          "height": 367
        },
        "outputId": "b91e8d93-24c1-4b43-abaf-f860ed65ccd3"
      },
      "source": [
        "# Encode categorical features\n",
        "all_data = pd.get_dummies(data = all_data, columns = cat_cols)\n",
        "all_data.head()"
      ],
      "execution_count": 69,
      "outputs": [
        {
          "output_type": "execute_result",
          "data": {
            "text/html": [
              "<div>\n",
              "<style scoped>\n",
              "    .dataframe tbody tr th:only-of-type {\n",
              "        vertical-align: middle;\n",
              "    }\n",
              "\n",
              "    .dataframe tbody tr th {\n",
              "        vertical-align: top;\n",
              "    }\n",
              "\n",
              "    .dataframe thead th {\n",
              "        text-align: right;\n",
              "    }\n",
              "</style>\n",
              "<table border=\"1\" class=\"dataframe\">\n",
              "  <thead>\n",
              "    <tr style=\"text-align: right;\">\n",
              "      <th></th>\n",
              "      <th>ID</th>\n",
              "      <th>Policy Start Date</th>\n",
              "      <th>Policy End Date</th>\n",
              "      <th>Age</th>\n",
              "      <th>First Transaction Date</th>\n",
              "      <th>No_Pol</th>\n",
              "      <th>target</th>\n",
              "      <th>Policy Start Dateyear</th>\n",
              "      <th>Policy Start Datemonth</th>\n",
              "      <th>Policy Start Dateday</th>\n",
              "      <th>Policy End Dateyear</th>\n",
              "      <th>Policy End Datemonth</th>\n",
              "      <th>Policy End Dateday</th>\n",
              "      <th>First Transaction Dateyear</th>\n",
              "      <th>First Transaction Datemonth</th>\n",
              "      <th>First Transaction Dateday</th>\n",
              "      <th>Gender_Female</th>\n",
              "      <th>Gender_Male</th>\n",
              "      <th>Gender_Other</th>\n",
              "      <th>Car_Category_Bus</th>\n",
              "      <th>Car_Category_CAMRY CAR HIRE</th>\n",
              "      <th>Car_Category_JEEP</th>\n",
              "      <th>Car_Category_Motorcycle</th>\n",
              "      <th>Car_Category_Pick Up</th>\n",
              "      <th>Car_Category_Saloon</th>\n",
              "      <th>Car_Category_Sedan</th>\n",
              "      <th>Car_Category_Shape Of Vehicle Chasis</th>\n",
              "      <th>Car_Category_Station 4 Wheel</th>\n",
              "      <th>Car_Category_Truck</th>\n",
              "      <th>Car_Category_Van</th>\n",
              "      <th>Car_Category_Wagon</th>\n",
              "      <th>Subject_Car_Colour_As Attached</th>\n",
              "      <th>Subject_Car_Colour_Black</th>\n",
              "      <th>Subject_Car_Colour_Black &amp; Orange</th>\n",
              "      <th>Subject_Car_Colour_Black &amp; White</th>\n",
              "      <th>Subject_Car_Colour_Blue</th>\n",
              "      <th>Subject_Car_Colour_Blue &amp; Red</th>\n",
              "      <th>Subject_Car_Colour_Blue&amp;White&amp;Red</th>\n",
              "      <th>Subject_Car_Colour_Brown</th>\n",
              "      <th>Subject_Car_Colour_Cream</th>\n",
              "      <th>...</th>\n",
              "      <th>State_Nsit-Ubium</th>\n",
              "      <th>State_Obafemi-Owode</th>\n",
              "      <th>State_Obia-Akpor</th>\n",
              "      <th>State_Ogba-Ndoni</th>\n",
              "      <th>State_Ogbmosho-South</th>\n",
              "      <th>State_Ogun</th>\n",
              "      <th>State_Ogun-Waterside</th>\n",
              "      <th>State_Ondo</th>\n",
              "      <th>State_Ondo-West</th>\n",
              "      <th>State_Onitsha-North</th>\n",
              "      <th>State_Onitsha-South</th>\n",
              "      <th>State_Orile-Iganmu</th>\n",
              "      <th>State_Oshimili-North</th>\n",
              "      <th>State_Oshodi-Isolo</th>\n",
              "      <th>State_Osun</th>\n",
              "      <th>State_Ovia-SouthWest</th>\n",
              "      <th>State_Owerri-Municipal</th>\n",
              "      <th>State_Owerri-North</th>\n",
              "      <th>State_Owerri-West</th>\n",
              "      <th>State_Oyo</th>\n",
              "      <th>State_Oyo-East</th>\n",
              "      <th>State_Oyo-West</th>\n",
              "      <th>State_Port-Harcourt</th>\n",
              "      <th>State_QuaAn-Pan</th>\n",
              "      <th>State_Rivers</th>\n",
              "      <th>State_Udi-Agwu</th>\n",
              "      <th>State_Ughelli-North</th>\n",
              "      <th>State_Umuahia-South</th>\n",
              "      <th>State_Warri-Central</th>\n",
              "      <th>State_Warri-North</th>\n",
              "      <th>State_Warri-South</th>\n",
              "      <th>ProductName_CVTP</th>\n",
              "      <th>ProductName_Car Classic</th>\n",
              "      <th>ProductName_Car Plus</th>\n",
              "      <th>ProductName_Car Vintage</th>\n",
              "      <th>ProductName_CarFlex</th>\n",
              "      <th>ProductName_CarSafe</th>\n",
              "      <th>ProductName_Customized Motor</th>\n",
              "      <th>ProductName_Motor Cycle</th>\n",
              "      <th>ProductName_Muuve</th>\n",
              "    </tr>\n",
              "  </thead>\n",
              "  <tbody>\n",
              "    <tr>\n",
              "      <th>0</th>\n",
              "      <td>ID_0040R73</td>\n",
              "      <td>2010-05-14</td>\n",
              "      <td>2011-05-13</td>\n",
              "      <td>30</td>\n",
              "      <td>2010-05-14</td>\n",
              "      <td>1</td>\n",
              "      <td>0.0</td>\n",
              "      <td>2010</td>\n",
              "      <td>5</td>\n",
              "      <td>14</td>\n",
              "      <td>2011</td>\n",
              "      <td>5</td>\n",
              "      <td>13</td>\n",
              "      <td>2010</td>\n",
              "      <td>5</td>\n",
              "      <td>14</td>\n",
              "      <td>0</td>\n",
              "      <td>1</td>\n",
              "      <td>0</td>\n",
              "      <td>0</td>\n",
              "      <td>0</td>\n",
              "      <td>0</td>\n",
              "      <td>0</td>\n",
              "      <td>0</td>\n",
              "      <td>1</td>\n",
              "      <td>0</td>\n",
              "      <td>0</td>\n",
              "      <td>0</td>\n",
              "      <td>0</td>\n",
              "      <td>0</td>\n",
              "      <td>0</td>\n",
              "      <td>0</td>\n",
              "      <td>1</td>\n",
              "      <td>0</td>\n",
              "      <td>0</td>\n",
              "      <td>0</td>\n",
              "      <td>0</td>\n",
              "      <td>0</td>\n",
              "      <td>0</td>\n",
              "      <td>0</td>\n",
              "      <td>...</td>\n",
              "      <td>0</td>\n",
              "      <td>0</td>\n",
              "      <td>0</td>\n",
              "      <td>0</td>\n",
              "      <td>0</td>\n",
              "      <td>0</td>\n",
              "      <td>0</td>\n",
              "      <td>0</td>\n",
              "      <td>0</td>\n",
              "      <td>0</td>\n",
              "      <td>0</td>\n",
              "      <td>0</td>\n",
              "      <td>0</td>\n",
              "      <td>0</td>\n",
              "      <td>0</td>\n",
              "      <td>0</td>\n",
              "      <td>0</td>\n",
              "      <td>0</td>\n",
              "      <td>0</td>\n",
              "      <td>0</td>\n",
              "      <td>0</td>\n",
              "      <td>0</td>\n",
              "      <td>0</td>\n",
              "      <td>0</td>\n",
              "      <td>0</td>\n",
              "      <td>0</td>\n",
              "      <td>0</td>\n",
              "      <td>0</td>\n",
              "      <td>0</td>\n",
              "      <td>0</td>\n",
              "      <td>0</td>\n",
              "      <td>0</td>\n",
              "      <td>1</td>\n",
              "      <td>0</td>\n",
              "      <td>0</td>\n",
              "      <td>0</td>\n",
              "      <td>0</td>\n",
              "      <td>0</td>\n",
              "      <td>0</td>\n",
              "      <td>0</td>\n",
              "    </tr>\n",
              "    <tr>\n",
              "      <th>1</th>\n",
              "      <td>ID_0046BNK</td>\n",
              "      <td>2010-11-29</td>\n",
              "      <td>2011-11-28</td>\n",
              "      <td>79</td>\n",
              "      <td>2010-11-29</td>\n",
              "      <td>1</td>\n",
              "      <td>1.0</td>\n",
              "      <td>2010</td>\n",
              "      <td>11</td>\n",
              "      <td>29</td>\n",
              "      <td>2011</td>\n",
              "      <td>11</td>\n",
              "      <td>28</td>\n",
              "      <td>2010</td>\n",
              "      <td>11</td>\n",
              "      <td>29</td>\n",
              "      <td>1</td>\n",
              "      <td>0</td>\n",
              "      <td>0</td>\n",
              "      <td>0</td>\n",
              "      <td>0</td>\n",
              "      <td>1</td>\n",
              "      <td>0</td>\n",
              "      <td>0</td>\n",
              "      <td>0</td>\n",
              "      <td>0</td>\n",
              "      <td>0</td>\n",
              "      <td>0</td>\n",
              "      <td>0</td>\n",
              "      <td>0</td>\n",
              "      <td>0</td>\n",
              "      <td>0</td>\n",
              "      <td>0</td>\n",
              "      <td>0</td>\n",
              "      <td>0</td>\n",
              "      <td>0</td>\n",
              "      <td>0</td>\n",
              "      <td>0</td>\n",
              "      <td>0</td>\n",
              "      <td>0</td>\n",
              "      <td>...</td>\n",
              "      <td>0</td>\n",
              "      <td>0</td>\n",
              "      <td>0</td>\n",
              "      <td>0</td>\n",
              "      <td>0</td>\n",
              "      <td>0</td>\n",
              "      <td>0</td>\n",
              "      <td>0</td>\n",
              "      <td>0</td>\n",
              "      <td>0</td>\n",
              "      <td>0</td>\n",
              "      <td>0</td>\n",
              "      <td>0</td>\n",
              "      <td>0</td>\n",
              "      <td>0</td>\n",
              "      <td>0</td>\n",
              "      <td>0</td>\n",
              "      <td>0</td>\n",
              "      <td>0</td>\n",
              "      <td>0</td>\n",
              "      <td>0</td>\n",
              "      <td>0</td>\n",
              "      <td>0</td>\n",
              "      <td>0</td>\n",
              "      <td>0</td>\n",
              "      <td>0</td>\n",
              "      <td>0</td>\n",
              "      <td>0</td>\n",
              "      <td>0</td>\n",
              "      <td>0</td>\n",
              "      <td>0</td>\n",
              "      <td>0</td>\n",
              "      <td>1</td>\n",
              "      <td>0</td>\n",
              "      <td>0</td>\n",
              "      <td>0</td>\n",
              "      <td>0</td>\n",
              "      <td>0</td>\n",
              "      <td>0</td>\n",
              "      <td>0</td>\n",
              "    </tr>\n",
              "    <tr>\n",
              "      <th>2</th>\n",
              "      <td>ID_005QMC3</td>\n",
              "      <td>2010-03-21</td>\n",
              "      <td>2011-03-20</td>\n",
              "      <td>43</td>\n",
              "      <td>2010-03-21</td>\n",
              "      <td>1</td>\n",
              "      <td>0.0</td>\n",
              "      <td>2010</td>\n",
              "      <td>3</td>\n",
              "      <td>21</td>\n",
              "      <td>2011</td>\n",
              "      <td>3</td>\n",
              "      <td>20</td>\n",
              "      <td>2010</td>\n",
              "      <td>3</td>\n",
              "      <td>21</td>\n",
              "      <td>0</td>\n",
              "      <td>1</td>\n",
              "      <td>0</td>\n",
              "      <td>0</td>\n",
              "      <td>0</td>\n",
              "      <td>0</td>\n",
              "      <td>0</td>\n",
              "      <td>0</td>\n",
              "      <td>1</td>\n",
              "      <td>0</td>\n",
              "      <td>0</td>\n",
              "      <td>0</td>\n",
              "      <td>0</td>\n",
              "      <td>0</td>\n",
              "      <td>0</td>\n",
              "      <td>0</td>\n",
              "      <td>0</td>\n",
              "      <td>0</td>\n",
              "      <td>0</td>\n",
              "      <td>0</td>\n",
              "      <td>0</td>\n",
              "      <td>0</td>\n",
              "      <td>0</td>\n",
              "      <td>0</td>\n",
              "      <td>...</td>\n",
              "      <td>0</td>\n",
              "      <td>0</td>\n",
              "      <td>0</td>\n",
              "      <td>0</td>\n",
              "      <td>0</td>\n",
              "      <td>0</td>\n",
              "      <td>0</td>\n",
              "      <td>0</td>\n",
              "      <td>0</td>\n",
              "      <td>0</td>\n",
              "      <td>0</td>\n",
              "      <td>0</td>\n",
              "      <td>0</td>\n",
              "      <td>0</td>\n",
              "      <td>0</td>\n",
              "      <td>0</td>\n",
              "      <td>0</td>\n",
              "      <td>0</td>\n",
              "      <td>0</td>\n",
              "      <td>0</td>\n",
              "      <td>0</td>\n",
              "      <td>0</td>\n",
              "      <td>0</td>\n",
              "      <td>0</td>\n",
              "      <td>0</td>\n",
              "      <td>0</td>\n",
              "      <td>0</td>\n",
              "      <td>0</td>\n",
              "      <td>0</td>\n",
              "      <td>0</td>\n",
              "      <td>0</td>\n",
              "      <td>0</td>\n",
              "      <td>1</td>\n",
              "      <td>0</td>\n",
              "      <td>0</td>\n",
              "      <td>0</td>\n",
              "      <td>0</td>\n",
              "      <td>0</td>\n",
              "      <td>0</td>\n",
              "      <td>0</td>\n",
              "    </tr>\n",
              "    <tr>\n",
              "      <th>3</th>\n",
              "      <td>ID_0079OHW</td>\n",
              "      <td>2010-08-21</td>\n",
              "      <td>2011-08-20</td>\n",
              "      <td>2</td>\n",
              "      <td>2010-08-21</td>\n",
              "      <td>1</td>\n",
              "      <td>0.0</td>\n",
              "      <td>2010</td>\n",
              "      <td>8</td>\n",
              "      <td>21</td>\n",
              "      <td>2011</td>\n",
              "      <td>8</td>\n",
              "      <td>20</td>\n",
              "      <td>2010</td>\n",
              "      <td>8</td>\n",
              "      <td>21</td>\n",
              "      <td>0</td>\n",
              "      <td>1</td>\n",
              "      <td>0</td>\n",
              "      <td>0</td>\n",
              "      <td>0</td>\n",
              "      <td>0</td>\n",
              "      <td>0</td>\n",
              "      <td>0</td>\n",
              "      <td>1</td>\n",
              "      <td>0</td>\n",
              "      <td>0</td>\n",
              "      <td>0</td>\n",
              "      <td>0</td>\n",
              "      <td>0</td>\n",
              "      <td>0</td>\n",
              "      <td>0</td>\n",
              "      <td>1</td>\n",
              "      <td>0</td>\n",
              "      <td>0</td>\n",
              "      <td>0</td>\n",
              "      <td>0</td>\n",
              "      <td>0</td>\n",
              "      <td>0</td>\n",
              "      <td>0</td>\n",
              "      <td>...</td>\n",
              "      <td>0</td>\n",
              "      <td>0</td>\n",
              "      <td>0</td>\n",
              "      <td>0</td>\n",
              "      <td>0</td>\n",
              "      <td>0</td>\n",
              "      <td>0</td>\n",
              "      <td>0</td>\n",
              "      <td>0</td>\n",
              "      <td>0</td>\n",
              "      <td>0</td>\n",
              "      <td>0</td>\n",
              "      <td>0</td>\n",
              "      <td>0</td>\n",
              "      <td>0</td>\n",
              "      <td>0</td>\n",
              "      <td>0</td>\n",
              "      <td>0</td>\n",
              "      <td>0</td>\n",
              "      <td>0</td>\n",
              "      <td>0</td>\n",
              "      <td>0</td>\n",
              "      <td>0</td>\n",
              "      <td>0</td>\n",
              "      <td>0</td>\n",
              "      <td>0</td>\n",
              "      <td>0</td>\n",
              "      <td>0</td>\n",
              "      <td>0</td>\n",
              "      <td>0</td>\n",
              "      <td>0</td>\n",
              "      <td>0</td>\n",
              "      <td>0</td>\n",
              "      <td>0</td>\n",
              "      <td>0</td>\n",
              "      <td>0</td>\n",
              "      <td>1</td>\n",
              "      <td>0</td>\n",
              "      <td>0</td>\n",
              "      <td>0</td>\n",
              "    </tr>\n",
              "    <tr>\n",
              "      <th>4</th>\n",
              "      <td>ID_00BRP63</td>\n",
              "      <td>2010-08-29</td>\n",
              "      <td>2010-12-31</td>\n",
              "      <td>20</td>\n",
              "      <td>2010-08-29</td>\n",
              "      <td>3</td>\n",
              "      <td>1.0</td>\n",
              "      <td>2010</td>\n",
              "      <td>8</td>\n",
              "      <td>29</td>\n",
              "      <td>2010</td>\n",
              "      <td>12</td>\n",
              "      <td>31</td>\n",
              "      <td>2010</td>\n",
              "      <td>8</td>\n",
              "      <td>29</td>\n",
              "      <td>0</td>\n",
              "      <td>0</td>\n",
              "      <td>1</td>\n",
              "      <td>0</td>\n",
              "      <td>0</td>\n",
              "      <td>0</td>\n",
              "      <td>0</td>\n",
              "      <td>0</td>\n",
              "      <td>1</td>\n",
              "      <td>0</td>\n",
              "      <td>0</td>\n",
              "      <td>0</td>\n",
              "      <td>0</td>\n",
              "      <td>0</td>\n",
              "      <td>0</td>\n",
              "      <td>0</td>\n",
              "      <td>1</td>\n",
              "      <td>0</td>\n",
              "      <td>0</td>\n",
              "      <td>0</td>\n",
              "      <td>0</td>\n",
              "      <td>0</td>\n",
              "      <td>0</td>\n",
              "      <td>0</td>\n",
              "      <td>...</td>\n",
              "      <td>0</td>\n",
              "      <td>0</td>\n",
              "      <td>0</td>\n",
              "      <td>0</td>\n",
              "      <td>0</td>\n",
              "      <td>0</td>\n",
              "      <td>0</td>\n",
              "      <td>0</td>\n",
              "      <td>0</td>\n",
              "      <td>0</td>\n",
              "      <td>0</td>\n",
              "      <td>0</td>\n",
              "      <td>0</td>\n",
              "      <td>0</td>\n",
              "      <td>0</td>\n",
              "      <td>0</td>\n",
              "      <td>0</td>\n",
              "      <td>0</td>\n",
              "      <td>0</td>\n",
              "      <td>0</td>\n",
              "      <td>0</td>\n",
              "      <td>0</td>\n",
              "      <td>0</td>\n",
              "      <td>0</td>\n",
              "      <td>0</td>\n",
              "      <td>0</td>\n",
              "      <td>0</td>\n",
              "      <td>0</td>\n",
              "      <td>0</td>\n",
              "      <td>0</td>\n",
              "      <td>0</td>\n",
              "      <td>0</td>\n",
              "      <td>0</td>\n",
              "      <td>0</td>\n",
              "      <td>0</td>\n",
              "      <td>0</td>\n",
              "      <td>0</td>\n",
              "      <td>0</td>\n",
              "      <td>0</td>\n",
              "      <td>1</td>\n",
              "    </tr>\n",
              "  </tbody>\n",
              "</table>\n",
              "<p>5 rows × 522 columns</p>\n",
              "</div>"
            ],
            "text/plain": [
              "           ID Policy Start Date  ... ProductName_Motor Cycle  ProductName_Muuve\n",
              "0  ID_0040R73        2010-05-14  ...                       0                  0\n",
              "1  ID_0046BNK        2010-11-29  ...                       0                  0\n",
              "2  ID_005QMC3        2010-03-21  ...                       0                  0\n",
              "3  ID_0079OHW        2010-08-21  ...                       0                  0\n",
              "4  ID_00BRP63        2010-08-29  ...                       0                  1\n",
              "\n",
              "[5 rows x 522 columns]"
            ]
          },
          "metadata": {
            "tags": []
          },
          "execution_count": 69
        }
      ]
    },
    {
      "cell_type": "code",
      "metadata": {
        "id": "SrHSOe-j6bpJ"
      },
      "source": [
        "# all_data = all_data.merge('Policy Start Datemonth','Policy End Datemonth')"
      ],
      "execution_count": 70,
      "outputs": []
    },
    {
      "cell_type": "code",
      "metadata": {
        "colab": {
          "base_uri": "https://localhost:8080/",
          "height": 367
        },
        "id": "GWY-smOT6_5i",
        "outputId": "d191f5ac-89e3-42e6-b93d-ef2b47623353"
      },
      "source": [
        "all_data.head()"
      ],
      "execution_count": 71,
      "outputs": [
        {
          "output_type": "execute_result",
          "data": {
            "text/html": [
              "<div>\n",
              "<style scoped>\n",
              "    .dataframe tbody tr th:only-of-type {\n",
              "        vertical-align: middle;\n",
              "    }\n",
              "\n",
              "    .dataframe tbody tr th {\n",
              "        vertical-align: top;\n",
              "    }\n",
              "\n",
              "    .dataframe thead th {\n",
              "        text-align: right;\n",
              "    }\n",
              "</style>\n",
              "<table border=\"1\" class=\"dataframe\">\n",
              "  <thead>\n",
              "    <tr style=\"text-align: right;\">\n",
              "      <th></th>\n",
              "      <th>ID</th>\n",
              "      <th>Policy Start Date</th>\n",
              "      <th>Policy End Date</th>\n",
              "      <th>Age</th>\n",
              "      <th>First Transaction Date</th>\n",
              "      <th>No_Pol</th>\n",
              "      <th>target</th>\n",
              "      <th>Policy Start Dateyear</th>\n",
              "      <th>Policy Start Datemonth</th>\n",
              "      <th>Policy Start Dateday</th>\n",
              "      <th>Policy End Dateyear</th>\n",
              "      <th>Policy End Datemonth</th>\n",
              "      <th>Policy End Dateday</th>\n",
              "      <th>First Transaction Dateyear</th>\n",
              "      <th>First Transaction Datemonth</th>\n",
              "      <th>First Transaction Dateday</th>\n",
              "      <th>Gender_Female</th>\n",
              "      <th>Gender_Male</th>\n",
              "      <th>Gender_Other</th>\n",
              "      <th>Car_Category_Bus</th>\n",
              "      <th>Car_Category_CAMRY CAR HIRE</th>\n",
              "      <th>Car_Category_JEEP</th>\n",
              "      <th>Car_Category_Motorcycle</th>\n",
              "      <th>Car_Category_Pick Up</th>\n",
              "      <th>Car_Category_Saloon</th>\n",
              "      <th>Car_Category_Sedan</th>\n",
              "      <th>Car_Category_Shape Of Vehicle Chasis</th>\n",
              "      <th>Car_Category_Station 4 Wheel</th>\n",
              "      <th>Car_Category_Truck</th>\n",
              "      <th>Car_Category_Van</th>\n",
              "      <th>Car_Category_Wagon</th>\n",
              "      <th>Subject_Car_Colour_As Attached</th>\n",
              "      <th>Subject_Car_Colour_Black</th>\n",
              "      <th>Subject_Car_Colour_Black &amp; Orange</th>\n",
              "      <th>Subject_Car_Colour_Black &amp; White</th>\n",
              "      <th>Subject_Car_Colour_Blue</th>\n",
              "      <th>Subject_Car_Colour_Blue &amp; Red</th>\n",
              "      <th>Subject_Car_Colour_Blue&amp;White&amp;Red</th>\n",
              "      <th>Subject_Car_Colour_Brown</th>\n",
              "      <th>Subject_Car_Colour_Cream</th>\n",
              "      <th>...</th>\n",
              "      <th>State_Nsit-Ubium</th>\n",
              "      <th>State_Obafemi-Owode</th>\n",
              "      <th>State_Obia-Akpor</th>\n",
              "      <th>State_Ogba-Ndoni</th>\n",
              "      <th>State_Ogbmosho-South</th>\n",
              "      <th>State_Ogun</th>\n",
              "      <th>State_Ogun-Waterside</th>\n",
              "      <th>State_Ondo</th>\n",
              "      <th>State_Ondo-West</th>\n",
              "      <th>State_Onitsha-North</th>\n",
              "      <th>State_Onitsha-South</th>\n",
              "      <th>State_Orile-Iganmu</th>\n",
              "      <th>State_Oshimili-North</th>\n",
              "      <th>State_Oshodi-Isolo</th>\n",
              "      <th>State_Osun</th>\n",
              "      <th>State_Ovia-SouthWest</th>\n",
              "      <th>State_Owerri-Municipal</th>\n",
              "      <th>State_Owerri-North</th>\n",
              "      <th>State_Owerri-West</th>\n",
              "      <th>State_Oyo</th>\n",
              "      <th>State_Oyo-East</th>\n",
              "      <th>State_Oyo-West</th>\n",
              "      <th>State_Port-Harcourt</th>\n",
              "      <th>State_QuaAn-Pan</th>\n",
              "      <th>State_Rivers</th>\n",
              "      <th>State_Udi-Agwu</th>\n",
              "      <th>State_Ughelli-North</th>\n",
              "      <th>State_Umuahia-South</th>\n",
              "      <th>State_Warri-Central</th>\n",
              "      <th>State_Warri-North</th>\n",
              "      <th>State_Warri-South</th>\n",
              "      <th>ProductName_CVTP</th>\n",
              "      <th>ProductName_Car Classic</th>\n",
              "      <th>ProductName_Car Plus</th>\n",
              "      <th>ProductName_Car Vintage</th>\n",
              "      <th>ProductName_CarFlex</th>\n",
              "      <th>ProductName_CarSafe</th>\n",
              "      <th>ProductName_Customized Motor</th>\n",
              "      <th>ProductName_Motor Cycle</th>\n",
              "      <th>ProductName_Muuve</th>\n",
              "    </tr>\n",
              "  </thead>\n",
              "  <tbody>\n",
              "    <tr>\n",
              "      <th>0</th>\n",
              "      <td>ID_0040R73</td>\n",
              "      <td>2010-05-14</td>\n",
              "      <td>2011-05-13</td>\n",
              "      <td>30</td>\n",
              "      <td>2010-05-14</td>\n",
              "      <td>1</td>\n",
              "      <td>0.0</td>\n",
              "      <td>2010</td>\n",
              "      <td>5</td>\n",
              "      <td>14</td>\n",
              "      <td>2011</td>\n",
              "      <td>5</td>\n",
              "      <td>13</td>\n",
              "      <td>2010</td>\n",
              "      <td>5</td>\n",
              "      <td>14</td>\n",
              "      <td>0</td>\n",
              "      <td>1</td>\n",
              "      <td>0</td>\n",
              "      <td>0</td>\n",
              "      <td>0</td>\n",
              "      <td>0</td>\n",
              "      <td>0</td>\n",
              "      <td>0</td>\n",
              "      <td>1</td>\n",
              "      <td>0</td>\n",
              "      <td>0</td>\n",
              "      <td>0</td>\n",
              "      <td>0</td>\n",
              "      <td>0</td>\n",
              "      <td>0</td>\n",
              "      <td>0</td>\n",
              "      <td>1</td>\n",
              "      <td>0</td>\n",
              "      <td>0</td>\n",
              "      <td>0</td>\n",
              "      <td>0</td>\n",
              "      <td>0</td>\n",
              "      <td>0</td>\n",
              "      <td>0</td>\n",
              "      <td>...</td>\n",
              "      <td>0</td>\n",
              "      <td>0</td>\n",
              "      <td>0</td>\n",
              "      <td>0</td>\n",
              "      <td>0</td>\n",
              "      <td>0</td>\n",
              "      <td>0</td>\n",
              "      <td>0</td>\n",
              "      <td>0</td>\n",
              "      <td>0</td>\n",
              "      <td>0</td>\n",
              "      <td>0</td>\n",
              "      <td>0</td>\n",
              "      <td>0</td>\n",
              "      <td>0</td>\n",
              "      <td>0</td>\n",
              "      <td>0</td>\n",
              "      <td>0</td>\n",
              "      <td>0</td>\n",
              "      <td>0</td>\n",
              "      <td>0</td>\n",
              "      <td>0</td>\n",
              "      <td>0</td>\n",
              "      <td>0</td>\n",
              "      <td>0</td>\n",
              "      <td>0</td>\n",
              "      <td>0</td>\n",
              "      <td>0</td>\n",
              "      <td>0</td>\n",
              "      <td>0</td>\n",
              "      <td>0</td>\n",
              "      <td>0</td>\n",
              "      <td>1</td>\n",
              "      <td>0</td>\n",
              "      <td>0</td>\n",
              "      <td>0</td>\n",
              "      <td>0</td>\n",
              "      <td>0</td>\n",
              "      <td>0</td>\n",
              "      <td>0</td>\n",
              "    </tr>\n",
              "    <tr>\n",
              "      <th>1</th>\n",
              "      <td>ID_0046BNK</td>\n",
              "      <td>2010-11-29</td>\n",
              "      <td>2011-11-28</td>\n",
              "      <td>79</td>\n",
              "      <td>2010-11-29</td>\n",
              "      <td>1</td>\n",
              "      <td>1.0</td>\n",
              "      <td>2010</td>\n",
              "      <td>11</td>\n",
              "      <td>29</td>\n",
              "      <td>2011</td>\n",
              "      <td>11</td>\n",
              "      <td>28</td>\n",
              "      <td>2010</td>\n",
              "      <td>11</td>\n",
              "      <td>29</td>\n",
              "      <td>1</td>\n",
              "      <td>0</td>\n",
              "      <td>0</td>\n",
              "      <td>0</td>\n",
              "      <td>0</td>\n",
              "      <td>1</td>\n",
              "      <td>0</td>\n",
              "      <td>0</td>\n",
              "      <td>0</td>\n",
              "      <td>0</td>\n",
              "      <td>0</td>\n",
              "      <td>0</td>\n",
              "      <td>0</td>\n",
              "      <td>0</td>\n",
              "      <td>0</td>\n",
              "      <td>0</td>\n",
              "      <td>0</td>\n",
              "      <td>0</td>\n",
              "      <td>0</td>\n",
              "      <td>0</td>\n",
              "      <td>0</td>\n",
              "      <td>0</td>\n",
              "      <td>0</td>\n",
              "      <td>0</td>\n",
              "      <td>...</td>\n",
              "      <td>0</td>\n",
              "      <td>0</td>\n",
              "      <td>0</td>\n",
              "      <td>0</td>\n",
              "      <td>0</td>\n",
              "      <td>0</td>\n",
              "      <td>0</td>\n",
              "      <td>0</td>\n",
              "      <td>0</td>\n",
              "      <td>0</td>\n",
              "      <td>0</td>\n",
              "      <td>0</td>\n",
              "      <td>0</td>\n",
              "      <td>0</td>\n",
              "      <td>0</td>\n",
              "      <td>0</td>\n",
              "      <td>0</td>\n",
              "      <td>0</td>\n",
              "      <td>0</td>\n",
              "      <td>0</td>\n",
              "      <td>0</td>\n",
              "      <td>0</td>\n",
              "      <td>0</td>\n",
              "      <td>0</td>\n",
              "      <td>0</td>\n",
              "      <td>0</td>\n",
              "      <td>0</td>\n",
              "      <td>0</td>\n",
              "      <td>0</td>\n",
              "      <td>0</td>\n",
              "      <td>0</td>\n",
              "      <td>0</td>\n",
              "      <td>1</td>\n",
              "      <td>0</td>\n",
              "      <td>0</td>\n",
              "      <td>0</td>\n",
              "      <td>0</td>\n",
              "      <td>0</td>\n",
              "      <td>0</td>\n",
              "      <td>0</td>\n",
              "    </tr>\n",
              "    <tr>\n",
              "      <th>2</th>\n",
              "      <td>ID_005QMC3</td>\n",
              "      <td>2010-03-21</td>\n",
              "      <td>2011-03-20</td>\n",
              "      <td>43</td>\n",
              "      <td>2010-03-21</td>\n",
              "      <td>1</td>\n",
              "      <td>0.0</td>\n",
              "      <td>2010</td>\n",
              "      <td>3</td>\n",
              "      <td>21</td>\n",
              "      <td>2011</td>\n",
              "      <td>3</td>\n",
              "      <td>20</td>\n",
              "      <td>2010</td>\n",
              "      <td>3</td>\n",
              "      <td>21</td>\n",
              "      <td>0</td>\n",
              "      <td>1</td>\n",
              "      <td>0</td>\n",
              "      <td>0</td>\n",
              "      <td>0</td>\n",
              "      <td>0</td>\n",
              "      <td>0</td>\n",
              "      <td>0</td>\n",
              "      <td>1</td>\n",
              "      <td>0</td>\n",
              "      <td>0</td>\n",
              "      <td>0</td>\n",
              "      <td>0</td>\n",
              "      <td>0</td>\n",
              "      <td>0</td>\n",
              "      <td>0</td>\n",
              "      <td>0</td>\n",
              "      <td>0</td>\n",
              "      <td>0</td>\n",
              "      <td>0</td>\n",
              "      <td>0</td>\n",
              "      <td>0</td>\n",
              "      <td>0</td>\n",
              "      <td>0</td>\n",
              "      <td>...</td>\n",
              "      <td>0</td>\n",
              "      <td>0</td>\n",
              "      <td>0</td>\n",
              "      <td>0</td>\n",
              "      <td>0</td>\n",
              "      <td>0</td>\n",
              "      <td>0</td>\n",
              "      <td>0</td>\n",
              "      <td>0</td>\n",
              "      <td>0</td>\n",
              "      <td>0</td>\n",
              "      <td>0</td>\n",
              "      <td>0</td>\n",
              "      <td>0</td>\n",
              "      <td>0</td>\n",
              "      <td>0</td>\n",
              "      <td>0</td>\n",
              "      <td>0</td>\n",
              "      <td>0</td>\n",
              "      <td>0</td>\n",
              "      <td>0</td>\n",
              "      <td>0</td>\n",
              "      <td>0</td>\n",
              "      <td>0</td>\n",
              "      <td>0</td>\n",
              "      <td>0</td>\n",
              "      <td>0</td>\n",
              "      <td>0</td>\n",
              "      <td>0</td>\n",
              "      <td>0</td>\n",
              "      <td>0</td>\n",
              "      <td>0</td>\n",
              "      <td>1</td>\n",
              "      <td>0</td>\n",
              "      <td>0</td>\n",
              "      <td>0</td>\n",
              "      <td>0</td>\n",
              "      <td>0</td>\n",
              "      <td>0</td>\n",
              "      <td>0</td>\n",
              "    </tr>\n",
              "    <tr>\n",
              "      <th>3</th>\n",
              "      <td>ID_0079OHW</td>\n",
              "      <td>2010-08-21</td>\n",
              "      <td>2011-08-20</td>\n",
              "      <td>2</td>\n",
              "      <td>2010-08-21</td>\n",
              "      <td>1</td>\n",
              "      <td>0.0</td>\n",
              "      <td>2010</td>\n",
              "      <td>8</td>\n",
              "      <td>21</td>\n",
              "      <td>2011</td>\n",
              "      <td>8</td>\n",
              "      <td>20</td>\n",
              "      <td>2010</td>\n",
              "      <td>8</td>\n",
              "      <td>21</td>\n",
              "      <td>0</td>\n",
              "      <td>1</td>\n",
              "      <td>0</td>\n",
              "      <td>0</td>\n",
              "      <td>0</td>\n",
              "      <td>0</td>\n",
              "      <td>0</td>\n",
              "      <td>0</td>\n",
              "      <td>1</td>\n",
              "      <td>0</td>\n",
              "      <td>0</td>\n",
              "      <td>0</td>\n",
              "      <td>0</td>\n",
              "      <td>0</td>\n",
              "      <td>0</td>\n",
              "      <td>0</td>\n",
              "      <td>1</td>\n",
              "      <td>0</td>\n",
              "      <td>0</td>\n",
              "      <td>0</td>\n",
              "      <td>0</td>\n",
              "      <td>0</td>\n",
              "      <td>0</td>\n",
              "      <td>0</td>\n",
              "      <td>...</td>\n",
              "      <td>0</td>\n",
              "      <td>0</td>\n",
              "      <td>0</td>\n",
              "      <td>0</td>\n",
              "      <td>0</td>\n",
              "      <td>0</td>\n",
              "      <td>0</td>\n",
              "      <td>0</td>\n",
              "      <td>0</td>\n",
              "      <td>0</td>\n",
              "      <td>0</td>\n",
              "      <td>0</td>\n",
              "      <td>0</td>\n",
              "      <td>0</td>\n",
              "      <td>0</td>\n",
              "      <td>0</td>\n",
              "      <td>0</td>\n",
              "      <td>0</td>\n",
              "      <td>0</td>\n",
              "      <td>0</td>\n",
              "      <td>0</td>\n",
              "      <td>0</td>\n",
              "      <td>0</td>\n",
              "      <td>0</td>\n",
              "      <td>0</td>\n",
              "      <td>0</td>\n",
              "      <td>0</td>\n",
              "      <td>0</td>\n",
              "      <td>0</td>\n",
              "      <td>0</td>\n",
              "      <td>0</td>\n",
              "      <td>0</td>\n",
              "      <td>0</td>\n",
              "      <td>0</td>\n",
              "      <td>0</td>\n",
              "      <td>0</td>\n",
              "      <td>1</td>\n",
              "      <td>0</td>\n",
              "      <td>0</td>\n",
              "      <td>0</td>\n",
              "    </tr>\n",
              "    <tr>\n",
              "      <th>4</th>\n",
              "      <td>ID_00BRP63</td>\n",
              "      <td>2010-08-29</td>\n",
              "      <td>2010-12-31</td>\n",
              "      <td>20</td>\n",
              "      <td>2010-08-29</td>\n",
              "      <td>3</td>\n",
              "      <td>1.0</td>\n",
              "      <td>2010</td>\n",
              "      <td>8</td>\n",
              "      <td>29</td>\n",
              "      <td>2010</td>\n",
              "      <td>12</td>\n",
              "      <td>31</td>\n",
              "      <td>2010</td>\n",
              "      <td>8</td>\n",
              "      <td>29</td>\n",
              "      <td>0</td>\n",
              "      <td>0</td>\n",
              "      <td>1</td>\n",
              "      <td>0</td>\n",
              "      <td>0</td>\n",
              "      <td>0</td>\n",
              "      <td>0</td>\n",
              "      <td>0</td>\n",
              "      <td>1</td>\n",
              "      <td>0</td>\n",
              "      <td>0</td>\n",
              "      <td>0</td>\n",
              "      <td>0</td>\n",
              "      <td>0</td>\n",
              "      <td>0</td>\n",
              "      <td>0</td>\n",
              "      <td>1</td>\n",
              "      <td>0</td>\n",
              "      <td>0</td>\n",
              "      <td>0</td>\n",
              "      <td>0</td>\n",
              "      <td>0</td>\n",
              "      <td>0</td>\n",
              "      <td>0</td>\n",
              "      <td>...</td>\n",
              "      <td>0</td>\n",
              "      <td>0</td>\n",
              "      <td>0</td>\n",
              "      <td>0</td>\n",
              "      <td>0</td>\n",
              "      <td>0</td>\n",
              "      <td>0</td>\n",
              "      <td>0</td>\n",
              "      <td>0</td>\n",
              "      <td>0</td>\n",
              "      <td>0</td>\n",
              "      <td>0</td>\n",
              "      <td>0</td>\n",
              "      <td>0</td>\n",
              "      <td>0</td>\n",
              "      <td>0</td>\n",
              "      <td>0</td>\n",
              "      <td>0</td>\n",
              "      <td>0</td>\n",
              "      <td>0</td>\n",
              "      <td>0</td>\n",
              "      <td>0</td>\n",
              "      <td>0</td>\n",
              "      <td>0</td>\n",
              "      <td>0</td>\n",
              "      <td>0</td>\n",
              "      <td>0</td>\n",
              "      <td>0</td>\n",
              "      <td>0</td>\n",
              "      <td>0</td>\n",
              "      <td>0</td>\n",
              "      <td>0</td>\n",
              "      <td>0</td>\n",
              "      <td>0</td>\n",
              "      <td>0</td>\n",
              "      <td>0</td>\n",
              "      <td>0</td>\n",
              "      <td>0</td>\n",
              "      <td>0</td>\n",
              "      <td>1</td>\n",
              "    </tr>\n",
              "  </tbody>\n",
              "</table>\n",
              "<p>5 rows × 522 columns</p>\n",
              "</div>"
            ],
            "text/plain": [
              "           ID Policy Start Date  ... ProductName_Motor Cycle  ProductName_Muuve\n",
              "0  ID_0040R73        2010-05-14  ...                       0                  0\n",
              "1  ID_0046BNK        2010-11-29  ...                       0                  0\n",
              "2  ID_005QMC3        2010-03-21  ...                       0                  0\n",
              "3  ID_0079OHW        2010-08-21  ...                       0                  0\n",
              "4  ID_00BRP63        2010-08-29  ...                       0                  1\n",
              "\n",
              "[5 rows x 522 columns]"
            ]
          },
          "metadata": {
            "tags": []
          },
          "execution_count": 71
        }
      ]
    },
    {
      "cell_type": "code",
      "metadata": {
        "colab": {
          "base_uri": "https://localhost:8080/"
        },
        "id": "2GoLTs-S8rFv",
        "outputId": "a5b3a546-570d-4fa0-f51e-cad78038f00a"
      },
      "source": [
        "\n",
        "corr_matrix = all_data.corr()\n",
        "corr_matrix[\"target\"].sort_values(ascending=False)"
      ],
      "execution_count": 72,
      "outputs": [
        {
          "output_type": "execute_result",
          "data": {
            "text/plain": [
              "target                     1.000000\n",
              "ProductName_Muuve          0.156545\n",
              "ProductName_Car Classic    0.149370\n",
              "Subject_Car_Colour_Grey    0.108784\n",
              "Subject_Car_Make_Iveco     0.091159\n",
              "                             ...   \n",
              "LGA_Name_Okpokwu                NaN\n",
              "LGA_Name_VGC                    NaN\n",
              "LGA_Name_Zaria                  NaN\n",
              "State_Idemili-south             NaN\n",
              "State_Ngor-Okpala               NaN\n",
              "Name: target, Length: 518, dtype: float64"
            ]
          },
          "metadata": {
            "tags": []
          },
          "execution_count": 72
        }
      ]
    },
    {
      "cell_type": "code",
      "metadata": {
        "colab": {
          "base_uri": "https://localhost:8080/"
        },
        "id": "poJNiKqeYIVh",
        "outputId": "04f2ea2d-73be-46d6-c30f-520c4c1f130d"
      },
      "source": [
        "# Separate train and test data from the combined dataframe\n",
        "train_df = all_data[:ntrain]\n",
        "test_df = all_data[ntrain:]\n",
        "\n",
        "# Check the shapes of the split dataset\n",
        "train_df.shape, test_df.shape"
      ],
      "execution_count": 73,
      "outputs": [
        {
          "output_type": "execute_result",
          "data": {
            "text/plain": [
              "((12079, 522), (5177, 522))"
            ]
          },
          "metadata": {
            "tags": []
          },
          "execution_count": 73
        }
      ]
    },
    {
      "cell_type": "code",
      "metadata": {
        "id": "lw20xL6sYOkb",
        "colab": {
          "base_uri": "https://localhost:8080/"
        },
        "outputId": "5c9189e7-8495-4a35-ca86-5ef58da72bc8"
      },
      "source": [
        "# Select main columns to be used in training\n",
        "main_cols = all_data.columns.difference(date_cols+['ID', 'target','No_Pol', 'State','Policy Start Datemonth','First Transaction Dateyear','First Transaction Dateday'])\n",
        "X = train_df[main_cols]\n",
        "y = train_df.target\n",
        "\n",
        "# Split data into train and test sets\n",
        "X_train, X_test, y_train, y_test = train_test_split(X,y,test_size=0.3, random_state=42)\n",
        "\n",
        "# Train model\n",
        "model = LGBMClassifier(boosting_type='gbdt', objective='binary', num_leaves=1000,\n",
        "                                learning_rate=0.1,\n",
        "                                bagging_fraction=0.9, feature_fraction=0.9, reg_lambda=0.2)\n",
        "model.fit(X_train, y_train)\n",
        "\n",
        "# Make predictions\n",
        "# y_pred = model.predict(X_test)\n",
        "\n",
        "# Check the f1 score of the model\n",
        "# print(f'F1 score on the X_test is: {f1_score(y_test, y_pred)}')"
      ],
      "execution_count": 74,
      "outputs": [
        {
          "output_type": "execute_result",
          "data": {
            "text/plain": [
              "LGBMClassifier(bagging_fraction=0.9, boosting_type='gbdt', class_weight=None,\n",
              "               colsample_bytree=1.0, feature_fraction=0.9,\n",
              "               importance_type='split', learning_rate=0.1, max_depth=-1,\n",
              "               min_child_samples=20, min_child_weight=0.001, min_split_gain=0.0,\n",
              "               n_estimators=100, n_jobs=-1, num_leaves=1000, objective='binary',\n",
              "               random_state=None, reg_alpha=0.0, reg_lambda=0.2, silent=True,\n",
              "               subsample=1.0, subsample_for_bin=200000, subsample_freq=0)"
            ]
          },
          "metadata": {
            "tags": []
          },
          "execution_count": 74
        }
      ]
    },
    {
      "cell_type": "code",
      "metadata": {
        "id": "fVytuN_RY7lX"
      },
      "source": [
        "# # Make prediction on the test set\n",
        "# test_df = test_df[main_cols]\n",
        "# predictions = model.predict(test_df)\n",
        "\n",
        "# # Create a submission file\n",
        "# sub_file = ss.copy()\n",
        "# sub_file.target = predictions\n",
        "\n",
        "# # Check the distribution of your predictions\n",
        "# sns.countplot(sub_file.target);"
      ],
      "execution_count": 75,
      "outputs": []
    },
    {
      "cell_type": "code",
      "metadata": {
        "id": "86ztFcztY7zk"
      },
      "source": [
        "# # Create a csv file and upload to zindi \n",
        "# sub_file.to_csv('Baseline.csv', index = False)"
      ],
      "execution_count": 76,
      "outputs": []
    },
    {
      "cell_type": "code",
      "metadata": {
        "id": "GWFCfWihSgk6"
      },
      "source": [
        "# # Saving model to current directory\n",
        "# # Pickle serializes objects so they can be saved to a file, and loaded in a program again later on.\n",
        "# import pickle\n",
        "# pickle.dump(model, open('model.pkl','wb'))"
      ],
      "execution_count": 77,
      "outputs": []
    },
    {
      "cell_type": "code",
      "metadata": {
        "id": "RmPFtde3Sgnk"
      },
      "source": [
        "#Loading model to compare the results\n",
        "# model1 = pickle.load(open('model.pkl','rb'))\n",
        "# print(model1.predict([[2.6, 8, 10.1]]))"
      ],
      "execution_count": 78,
      "outputs": []
    },
    {
      "cell_type": "code",
      "metadata": {
        "id": "xKRhoV06Sgql"
      },
      "source": [
        "# !pip install flask"
      ],
      "execution_count": 79,
      "outputs": []
    },
    {
      "cell_type": "code",
      "metadata": {
        "colab": {
          "base_uri": "https://localhost:8080/"
        },
        "id": "px7YMXI1ZtHj",
        "outputId": "7ded52d0-2805-47e9-97b4-9337b5e9950e"
      },
      "source": [
        "!pip install flask-ngrok"
      ],
      "execution_count": 80,
      "outputs": [
        {
          "output_type": "stream",
          "text": [
            "Requirement already satisfied: flask-ngrok in /usr/local/lib/python3.7/dist-packages (0.0.25)\n",
            "Requirement already satisfied: requests in /usr/local/lib/python3.7/dist-packages (from flask-ngrok) (2.23.0)\n",
            "Requirement already satisfied: Flask>=0.8 in /usr/local/lib/python3.7/dist-packages (from flask-ngrok) (1.1.4)\n",
            "Requirement already satisfied: urllib3!=1.25.0,!=1.25.1,<1.26,>=1.21.1 in /usr/local/lib/python3.7/dist-packages (from requests->flask-ngrok) (1.24.3)\n",
            "Requirement already satisfied: certifi>=2017.4.17 in /usr/local/lib/python3.7/dist-packages (from requests->flask-ngrok) (2020.12.5)\n",
            "Requirement already satisfied: chardet<4,>=3.0.2 in /usr/local/lib/python3.7/dist-packages (from requests->flask-ngrok) (3.0.4)\n",
            "Requirement already satisfied: idna<3,>=2.5 in /usr/local/lib/python3.7/dist-packages (from requests->flask-ngrok) (2.10)\n",
            "Requirement already satisfied: Jinja2<3.0,>=2.10.1 in /usr/local/lib/python3.7/dist-packages (from Flask>=0.8->flask-ngrok) (2.11.3)\n",
            "Requirement already satisfied: itsdangerous<2.0,>=0.24 in /usr/local/lib/python3.7/dist-packages (from Flask>=0.8->flask-ngrok) (1.1.0)\n",
            "Requirement already satisfied: Werkzeug<2.0,>=0.15 in /usr/local/lib/python3.7/dist-packages (from Flask>=0.8->flask-ngrok) (1.0.1)\n",
            "Requirement already satisfied: click<8.0,>=5.1 in /usr/local/lib/python3.7/dist-packages (from Flask>=0.8->flask-ngrok) (7.1.2)\n",
            "Requirement already satisfied: MarkupSafe>=0.23 in /usr/local/lib/python3.7/dist-packages (from Jinja2<3.0,>=2.10.1->Flask>=0.8->flask-ngrok) (2.0.1)\n"
          ],
          "name": "stdout"
        }
      ]
    },
    {
      "cell_type": "code",
      "metadata": {
        "id": "NPwA3xDgSgtV"
      },
      "source": [
        "#import libraries\n",
        "import numpy as np\n",
        "from flask import Flask, render_template,request\n",
        "import pickle#Initialize the flask App\n"
      ],
      "execution_count": 81,
      "outputs": []
    },
    {
      "cell_type": "code",
      "metadata": {
        "id": "1pG2-VS_SgwO"
      },
      "source": [
        "# #default page of our web-app\n",
        "# @app.route('/')\n",
        "# def home():\n",
        "    "
      ],
      "execution_count": 82,
      "outputs": []
    },
    {
      "cell_type": "code",
      "metadata": {
        "colab": {
          "base_uri": "https://localhost:8080/"
        },
        "id": "snFow6YSZiHB",
        "outputId": "6902b797-48b4-46fb-b271-83daa0233d46"
      },
      "source": [
        "from flask import Flask\n",
        "from flask_ngrok import run_with_ngrok\n",
        "from flask import Flask, render_template,request\n",
        "\n",
        "from google.colab import drive\n",
        "drive.mount('/content/gdrive/')\n",
        "\n",
        "app = Flask(__name__, template_folder='/content/gdrive/MyDrive')\n",
        "model = pickle.load(open('model.pkl', 'rb'))\n",
        "run_with_ngrok(app)   \n",
        "  \n",
        "@app.route(\"/\")\n",
        "def home():\n",
        "    return render_template('vehicle.html')\n",
        "    \n"
      ],
      "execution_count": 83,
      "outputs": [
        {
          "output_type": "stream",
          "text": [
            "Drive already mounted at /content/gdrive/; to attempt to forcibly remount, call drive.mount(\"/content/gdrive/\", force_remount=True).\n"
          ],
          "name": "stdout"
        }
      ]
    },
    {
      "cell_type": "code",
      "metadata": {
        "id": "7Xy4GSBLSgzX"
      },
      "source": [
        "#To use the predict button in our web-app\n",
        "@app.route('/predict',methods=['POST'])\n",
        "def predict():\n",
        "    #For rendering results on HTML GUI\n",
        "    int_features = [float(x) for x in request.form.values()]\n",
        "    final_features = [np.array(int_features)]\n",
        "    prediction = model.predict(final_features)\n",
        "    output = round(prediction[0], 2) \n",
        "    return render_template('vehicle.html', prediction_text='CO2    Emission of the vehicle is :{}'.format(output))"
      ],
      "execution_count": 84,
      "outputs": []
    },
    {
      "cell_type": "code",
      "metadata": {
        "colab": {
          "base_uri": "https://localhost:8080/"
        },
        "id": "V5BlJ5BtZiL0",
        "outputId": "a48300b6-5b80-493b-8c00-1c00b69a26f0"
      },
      "source": [
        "app.run()"
      ],
      "execution_count": null,
      "outputs": [
        {
          "output_type": "stream",
          "text": [
            " * Serving Flask app \"__main__\" (lazy loading)\n",
            " * Environment: production\n",
            "\u001b[31m   WARNING: This is a development server. Do not use it in a production deployment.\u001b[0m\n",
            "\u001b[2m   Use a production WSGI server instead.\u001b[0m\n",
            " * Debug mode: off\n"
          ],
          "name": "stdout"
        },
        {
          "output_type": "stream",
          "text": [
            " * Running on http://127.0.0.1:5000/ (Press CTRL+C to quit)\n"
          ],
          "name": "stderr"
        },
        {
          "output_type": "stream",
          "text": [
            " * Running on http://bf7feef03780.ngrok.io\n",
            " * Traffic stats available on http://127.0.0.1:4040\n"
          ],
          "name": "stdout"
        },
        {
          "output_type": "stream",
          "text": [
            "127.0.0.1 - - [02/Jun/2021 19:01:05] \"\u001b[37mGET / HTTP/1.1\u001b[0m\" 200 -\n",
            "127.0.0.1 - - [02/Jun/2021 19:01:06] \"\u001b[33mGET /favicon.ico HTTP/1.1\u001b[0m\" 404 -\n",
            "127.0.0.1 - - [02/Jun/2021 19:01:06] \"\u001b[37mGET / HTTP/1.1\u001b[0m\" 200 -\n",
            "[2021-06-02 19:02:11,405] ERROR in app: Exception on /predict [POST]\n",
            "Traceback (most recent call last):\n",
            "  File \"/usr/local/lib/python3.7/dist-packages/flask/app.py\", line 2447, in wsgi_app\n",
            "    response = self.full_dispatch_request()\n",
            "  File \"/usr/local/lib/python3.7/dist-packages/flask/app.py\", line 1952, in full_dispatch_request\n",
            "    rv = self.handle_user_exception(e)\n",
            "  File \"/usr/local/lib/python3.7/dist-packages/flask/app.py\", line 1821, in handle_user_exception\n",
            "    reraise(exc_type, exc_value, tb)\n",
            "  File \"/usr/local/lib/python3.7/dist-packages/flask/_compat.py\", line 39, in reraise\n",
            "    raise value\n",
            "  File \"/usr/local/lib/python3.7/dist-packages/flask/app.py\", line 1950, in full_dispatch_request\n",
            "    rv = self.dispatch_request()\n",
            "  File \"/usr/local/lib/python3.7/dist-packages/flask/app.py\", line 1936, in dispatch_request\n",
            "    return self.view_functions[rule.endpoint](**req.view_args)\n",
            "  File \"<ipython-input-84-010300fc3e12>\", line 5, in predict\n",
            "    int_features = [float(x) for x in request.form.values()]\n",
            "  File \"<ipython-input-84-010300fc3e12>\", line 5, in <listcomp>\n",
            "    int_features = [float(x) for x in request.form.values()]\n",
            "ValueError: could not convert string to float: 'Male'\n",
            "127.0.0.1 - - [02/Jun/2021 19:02:11] \"\u001b[35m\u001b[1mPOST /predict HTTP/1.1\u001b[0m\" 500 -\n",
            "127.0.0.1 - - [02/Jun/2021 19:02:12] \"\u001b[31m\u001b[1mGET /predict HTTP/1.1\u001b[0m\" 405 -\n",
            "[2021-06-02 19:26:56,377] ERROR in app: Exception on /predict [POST]\n",
            "Traceback (most recent call last):\n",
            "  File \"/usr/local/lib/python3.7/dist-packages/flask/app.py\", line 2447, in wsgi_app\n",
            "    response = self.full_dispatch_request()\n",
            "  File \"/usr/local/lib/python3.7/dist-packages/flask/app.py\", line 1952, in full_dispatch_request\n",
            "    rv = self.handle_user_exception(e)\n",
            "  File \"/usr/local/lib/python3.7/dist-packages/flask/app.py\", line 1821, in handle_user_exception\n",
            "    reraise(exc_type, exc_value, tb)\n",
            "  File \"/usr/local/lib/python3.7/dist-packages/flask/_compat.py\", line 39, in reraise\n",
            "    raise value\n",
            "  File \"/usr/local/lib/python3.7/dist-packages/flask/app.py\", line 1950, in full_dispatch_request\n",
            "    rv = self.dispatch_request()\n",
            "  File \"/usr/local/lib/python3.7/dist-packages/flask/app.py\", line 1936, in dispatch_request\n",
            "    return self.view_functions[rule.endpoint](**req.view_args)\n",
            "  File \"<ipython-input-84-010300fc3e12>\", line 7, in predict\n",
            "    prediction = model.predict(final_features)\n",
            "  File \"/usr/local/lib/python3.7/dist-packages/lightgbm/sklearn.py\", line 753, in predict\n",
            "    pred_leaf, pred_contrib, **kwargs)\n",
            "  File \"/usr/local/lib/python3.7/dist-packages/lightgbm/sklearn.py\", line 800, in predict_proba\n",
            "    pred_leaf, pred_contrib, **kwargs)\n",
            "  File \"/usr/local/lib/python3.7/dist-packages/lightgbm/sklearn.py\", line 599, in predict\n",
            "    X = _LGBMCheckArray(X, accept_sparse=True, force_all_finite=False)\n",
            "  File \"/usr/local/lib/python3.7/dist-packages/sklearn/utils/validation.py\", line 594, in check_array\n",
            "    context))\n",
            "ValueError: Found array with 0 feature(s) (shape=(1, 0)) while a minimum of 1 is required.\n",
            "127.0.0.1 - - [02/Jun/2021 19:26:56] \"\u001b[35m\u001b[1mPOST /predict HTTP/1.1\u001b[0m\" 500 -\n"
          ],
          "name": "stderr"
        }
      ]
    },
    {
      "cell_type": "code",
      "metadata": {
        "id": "AG5d2HxQZiTJ"
      },
      "source": [
        ""
      ],
      "execution_count": null,
      "outputs": []
    },
    {
      "cell_type": "code",
      "metadata": {
        "id": "gsrmDC89Ziat"
      },
      "source": [
        ""
      ],
      "execution_count": null,
      "outputs": []
    }
  ]
}